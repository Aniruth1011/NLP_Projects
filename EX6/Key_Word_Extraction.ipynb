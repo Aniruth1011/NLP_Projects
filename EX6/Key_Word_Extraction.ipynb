{
 "cells": [
  {
   "cell_type": "code",
   "execution_count": 10,
   "metadata": {},
   "outputs": [
    {
     "name": "stderr",
     "output_type": "stream",
     "text": [
      "[nltk_data] Downloading package averaged_perceptron_tagger to\n",
      "[nltk_data]     C:\\Users\\aniru\\AppData\\Roaming\\nltk_data...\n",
      "[nltk_data]   Package averaged_perceptron_tagger is already up-to-\n",
      "[nltk_data]       date!\n",
      "[nltk_data] Downloading package stopwords to\n",
      "[nltk_data]     C:\\Users\\aniru\\AppData\\Roaming\\nltk_data...\n",
      "[nltk_data]   Package stopwords is already up-to-date!\n"
     ]
    },
    {
     "name": "stdout",
     "output_type": "stream",
     "text": [
      "Keywords: ['Aniruth', 'great', 'man']\n"
     ]
    }
   ],
   "source": [
    "import nltk\n",
    "from nltk.tokenize import word_tokenize\n",
    "import spacy\n",
    "from nltk.corpus import stopwords\n",
    "nltk.download('averaged_perceptron_tagger')\n",
    "nltk.download('stopwords')\n",
    "\n",
    "nlp = spacy.load(\"en_core_web_sm\")\n",
    "\n",
    "def extract_keywords(input_text):\n",
    "\n",
    "    tokens = word_tokenize(input_text)\n",
    "    \n",
    "\n",
    "    from nltk import pos_tag\n",
    "\n",
    "    pos_tags = pos_tag(tokens)\n",
    "    \n",
    "    doc = nlp(input_text)\n",
    "    named_entities = [(ent.text, ent.label_) for ent in doc.ents]\n",
    "    \n",
    "    features = []\n",
    "    for token, pos_tag in pos_tags:\n",
    "        features.append((token, pos_tag))\n",
    "    \n",
    "    for entity, label in named_entities:\n",
    "        features.append((entity, label))\n",
    "    \n",
    "    keywords = [word for word, tag in features if tag.startswith(\"NN\") or \n",
    "                                                      tag.startswith(\"VB\") or \n",
    "                                                      tag.startswith(\"JJ\") or \n",
    "                                                      tag.startswith(\"NNP\") or \n",
    "                                                      tag.startswith(\"NNPS\")]\n",
    "    \n",
    "    stop_words = set(stopwords.words('english'))\n",
    "    keywords = [word for word in keywords if word.lower() not in stop_words]\n",
    "\n",
    "    return keywords\n",
    "\n",
    "input_text = \"Aniruth is a great man.\"\n",
    "keywords = extract_keywords(input_text)\n",
    "print(\"Keywords:\", keywords)"
   ]
  },
  {
   "cell_type": "code",
   "execution_count": 11,
   "metadata": {},
   "outputs": [
    {
     "name": "stdout",
     "output_type": "stream",
     "text": [
      "Named Entities: [('Aniruth', 'ORG')]\n"
     ]
    }
   ],
   "source": [
    "import spacy\n",
    "\n",
    "# Load SpaCy NER model\n",
    "nlp = spacy.load(\"en_core_web_sm\")\n",
    "\n",
    "def extract_keywords(input_text):\n",
    "    # Perform NER using SpaCy\n",
    "    doc = nlp(input_text)\n",
    "    \n",
    "    # Extract named entities and their labels\n",
    "    entities = [(ent.text, ent.label_) for ent in doc.ents]\n",
    "    \n",
    "    return entities\n",
    "\n",
    "# Example usage\n",
    "input_text = \"Aniruth is a great man.\"\n",
    "entities = extract_keywords(input_text)\n",
    "print(\"Named Entities:\", entities)"
   ]
  },
  {
   "cell_type": "code",
   "execution_count": null,
   "metadata": {},
   "outputs": [],
   "source": []
  }
 ],
 "metadata": {
  "kernelspec": {
   "display_name": "Python 3",
   "language": "python",
   "name": "python3"
  },
  "language_info": {
   "codemirror_mode": {
    "name": "ipython",
    "version": 3
   },
   "file_extension": ".py",
   "mimetype": "text/x-python",
   "name": "python",
   "nbconvert_exporter": "python",
   "pygments_lexer": "ipython3",
   "version": "3.11.5"
  }
 },
 "nbformat": 4,
 "nbformat_minor": 2
}
