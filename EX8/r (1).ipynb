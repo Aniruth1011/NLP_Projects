{
 "cells": [
  {
   "cell_type": "code",
   "execution_count": 4,
   "id": "8988d38a",
   "metadata": {},
   "outputs": [],
   "source": [
    "data_path=r\"C:\\Users\\LEN\\Downloads\\archive\\tam.txt\"\n",
    "from tensorflow.keras.layers import Input, Embedding, LSTM, Dense \n",
    "from tensorflow.keras.models import Model"
   ]
  },
  {
   "cell_type": "code",
   "execution_count": 5,
   "id": "0c88dd74",
   "metadata": {},
   "outputs": [],
   "source": [
    "samples=1000"
   ]
  },
  {
   "cell_type": "code",
   "execution_count": 6,
   "id": "c496b07c",
   "metadata": {},
   "outputs": [],
   "source": [
    "input_texts = []\n",
    "target_texts = []\n",
    "input_characters = set()\n",
    "target_characters = set()\n",
    "with open(data_path, 'r', encoding='utf-8') as f:\n",
    "    lines = f.read().split('\\n')\n",
    "for line in lines[: min(samples, len(lines) - 1)]:\n",
    "    input_text, target_text, _ = line.split('\\t')\n",
    "\n",
    "    target_text = '\\t' + target_text + '\\n'\n",
    "    input_texts.append(input_text)\n",
    "    target_texts.append(target_text)\n",
    "    for char in input_text:\n",
    "        if char not in input_characters:\n",
    "            input_characters.add(char)\n",
    "    for char in target_text:\n",
    "        if char not in target_characters:\n",
    "            target_characters.add(char)"
   ]
  },
  {
   "cell_type": "code",
   "execution_count": 7,
   "id": "8c0ed85e",
   "metadata": {},
   "outputs": [],
   "source": [
    "input_characters = sorted(list(input_characters)) "
   ]
  },
  {
   "cell_type": "code",
   "execution_count": 8,
   "id": "ca75a5ab",
   "metadata": {},
   "outputs": [],
   "source": [
    "target_characters = sorted(list(target_characters))"
   ]
  },
  {
   "cell_type": "code",
   "execution_count": 9,
   "id": "3bf20642",
   "metadata": {},
   "outputs": [
    {
     "data": {
      "text/plain": [
       "['I slept.',\n",
       " 'Calm down.',\n",
       " \"I'll walk.\",\n",
       " 'Who is he?',\n",
       " 'Who knows?',\n",
       " 'She smiled.',\n",
       " 'Talk to me!',\n",
       " 'Who is she?',\n",
       " 'Go to sleep.',\n",
       " 'It may rain.',\n",
       " 'She bit him.',\n",
       " 'She hit him.',\n",
       " 'She is kind.',\n",
       " 'She is eight.',\n",
       " 'Where are we?',\n",
       " 'Keep in touch!',\n",
       " 'See you again.',\n",
       " 'Give it to her.',\n",
       " 'I ate too much.',\n",
       " \"I'll see to it.\",\n",
       " \"It's up to you.\",\n",
       " 'Leave it to me.',\n",
       " 'Listen to this!',\n",
       " \"That's the way.\",\n",
       " 'Come and see me.',\n",
       " \"Don't lie to me.\",\n",
       " 'He began to run.',\n",
       " 'He just arrived.',\n",
       " 'He likes to run.',\n",
       " 'How is your dad?',\n",
       " 'I want to sleep.',\n",
       " \"I'm able to run.\",\n",
       " 'Raise your hand.',\n",
       " 'What did he say?',\n",
       " 'When can we eat?',\n",
       " 'Come and help us.',\n",
       " 'He is still here.',\n",
       " 'I have to go now.',\n",
       " 'I know that much.',\n",
       " 'I made a mistake.',\n",
       " 'I walk to school.',\n",
       " \"That's our house.\",\n",
       " 'Those are my CDs.',\n",
       " 'Walk ahead of me.',\n",
       " \"We'll follow you.\",\n",
       " 'Beware of the dog!',\n",
       " 'He came back soon.',\n",
       " 'He has three sons.',\n",
       " 'I know how to ski.',\n",
       " 'I know what to do.',\n",
       " \"I'm kind of happy.\",\n",
       " 'Keep to the right.',\n",
       " 'She began to sing.',\n",
       " 'She decided to go.',\n",
       " 'Do I have to study?',\n",
       " 'He is sure to come.',\n",
       " 'I had to walk home.',\n",
       " 'I have to dress up.',\n",
       " 'I told him to come.',\n",
       " \"I'm short of money.\",\n",
       " 'May I speak to you?',\n",
       " 'She gave it to him.',\n",
       " 'She is kind to him.',\n",
       " 'She sat next to me.',\n",
       " 'Shut up and listen!',\n",
       " 'Tell me what to do.',\n",
       " 'Tom runs very fast.',\n",
       " 'We ran out of food.',\n",
       " 'We started to walk.',\n",
       " 'When does it begin?',\n",
       " 'Are you ready to go?',\n",
       " 'Do you have any gum?',\n",
       " 'Does she play piano?',\n",
       " \"Don't listen to her.\",\n",
       " 'Go and wake Mary up.',\n",
       " 'He seems to know us.',\n",
       " 'I am engaged to her.',\n",
       " 'I have to leave now.',\n",
       " 'I want to go abroad.',\n",
       " \"I'm glad to see you.\",\n",
       " \"I'm proud of my son.\",\n",
       " \"I'm taller than you.\",\n",
       " \"I'm trying to sleep.\",\n",
       " \"It's free of charge.\",\n",
       " \"It's time to get up.\",\n",
       " 'Nobody speaks to me.',\n",
       " 'Roll the ball to me.',\n",
       " 'She boiled the eggs.',\n",
       " 'She danced with him.',\n",
       " 'She gave him a book.',\n",
       " 'She has 2,000 books.',\n",
       " 'This apple is sweet.',\n",
       " 'We swam in the lake.',\n",
       " 'Come home before six.',\n",
       " 'Go and see who it is.',\n",
       " 'I am afraid of bears.',\n",
       " 'I expect him to come.',\n",
       " \"It's a piece of cake.\",\n",
       " 'The boy began to cry.',\n",
       " 'You keep out of this.',\n",
       " 'All of us were silent.',\n",
       " 'Be kind to old people.',\n",
       " 'Beware of pickpockets.',\n",
       " \"Don't drink and drive.\",\n",
       " 'He can read and write.',\n",
       " 'He got a lot of money.',\n",
       " 'He has a lot of money.',\n",
       " 'He is afraid of death.',\n",
       " 'He let go of the rope.',\n",
       " 'I am tired of my work.',\n",
       " 'I got out of the taxi.',\n",
       " 'None of your business.',\n",
       " 'They made fun of Mary.',\n",
       " 'Tom and I are friends.',\n",
       " 'When is your birthday?',\n",
       " 'All of them went there.',\n",
       " 'Can you ride a bicycle?',\n",
       " 'Do you want to be rich?',\n",
       " 'He is afraid of snakes.',\n",
       " 'He is fond of swimming.',\n",
       " 'He went in place of me.',\n",
       " \"He's afraid of the sea.\",\n",
       " \"I'll leave that to you.\",\n",
       " 'It seems she hates you.',\n",
       " 'She got engaged to him.',\n",
       " 'She got married to him.',\n",
       " 'She stood close to him.',\n",
       " \"They're about to leave.\",\n",
       " 'This CD belongs to her.',\n",
       " 'We ran after the thief.',\n",
       " 'What do you plan to do?',\n",
       " 'A square has four sides.',\n",
       " 'Charge it to my account.',\n",
       " 'Did they write a letter?',\n",
       " 'He asked us to help him.',\n",
       " 'He is known to everyone.',\n",
       " 'He objected to our plan.',\n",
       " 'I just want you to come.',\n",
       " 'I want something to eat.',\n",
       " 'Is he a friend of yours?',\n",
       " 'The news quickly spread.',\n",
       " \"I can't find it anywhere.\",\n",
       " \"I thought you'd be angry.\",\n",
       " 'Please sit here and wait.',\n",
       " 'She went out of the room.',\n",
       " 'Speak slowly and clearly.',\n",
       " 'The sky is full of stars.',\n",
       " 'Come and see me right now.',\n",
       " 'Do you have a lot of pens?',\n",
       " 'Go and sit by your father.',\n",
       " 'He bought a pair of shoes.',\n",
       " 'I live on the bottom floor.',\n",
       " 'I sat between Tom and John.',\n",
       " 'She wore a beautiful dress.',\n",
       " 'When did you come to Japan?',\n",
       " \"Most people think I'm crazy.\",\n",
       " 'I suppose Tom is still alive.',\n",
       " 'She asked him for some money.',\n",
       " 'Tom told me about it himself.',\n",
       " 'Do you know when he will come?',\n",
       " 'He painted a picture of a dog.',\n",
       " 'I arrived ahead of the others.',\n",
       " 'I know every inch of the town.',\n",
       " \"I'm not sharing this with Tom.\",\n",
       " 'She is not afraid of anything.',\n",
       " 'The price of eggs is going up.',\n",
       " 'What is the price of this cap?',\n",
       " 'Which of them is your brother?',\n",
       " 'He arrived after the bell rang.',\n",
       " 'He was not aware of the danger.',\n",
       " 'My throat hurts when I swallow.',\n",
       " 'The school looks like a prison.',\n",
       " \"I'm not sure how to answer this.\",\n",
       " \"There's no easy way out of here.\",\n",
       " 'Three vicious dogs attacked Tom.',\n",
       " 'Tom was in Australia a year ago.',\n",
       " 'When did the wedding take place?',\n",
       " 'Where do you keep your passport?',\n",
       " \"Because he's sick, he can't come.\",\n",
       " 'Friendship requires mutual trust.',\n",
       " \"He put the ring on Mary's finger.\",\n",
       " 'She glanced through the magazine.',\n",
       " 'Tom has been crying all afternoon.',\n",
       " 'Tom has been in contact with Mary.',\n",
       " 'I want to be a pilot in the future.',\n",
       " 'If Tom ran away, where could he go?',\n",
       " 'I had my pocket picked on the train.',\n",
       " 'He told her something and she smiled.',\n",
       " \"I don't like to go out when it's dark.\",\n",
       " 'When he spoke, everyone became silent.',\n",
       " 'Tom drank with us until after midnight.',\n",
       " 'She has never been in a car driven by him.',\n",
       " 'Tom goes to church with Mary every Sunday.',\n",
       " \"I don't think people use that word anymore.\",\n",
       " 'My younger sister got married in her teens.',\n",
       " 'I wonder why Tom suggested we do that together.',\n",
       " \"Tom says he doesn't think he can do that by himself.\",\n",
       " \"People who live in glass houses shouldn't throw stones.\",\n",
       " \"It's been a long time since I've heard anyone use that word.\",\n",
       " 'If you want your workers to be happy, you need to pay them a decent wage.',\n",
       " \"It's my fault that the cake was burned. I was talking on the phone and didn't notice the time.\"]"
      ]
     },
     "execution_count": 9,
     "metadata": {},
     "output_type": "execute_result"
    }
   ],
   "source": [
    "input_texts"
   ]
  },
  {
   "cell_type": "code",
   "execution_count": 10,
   "id": "01fb789f",
   "metadata": {},
   "outputs": [
    {
     "data": {
      "text/plain": [
       "['\\tநான் தூங்கினேன்.\\n',\n",
       " '\\tஅமைதியாக இருங்கள்\\n',\n",
       " '\\tநான் நடப்பேன்.\\n',\n",
       " '\\tஅவன் யார்?\\n',\n",
       " '\\tயாருக்குத் தெரியும்?\\n',\n",
       " '\\tஅவள் சிரித்தாள்\\n',\n",
       " '\\tஎன்னிடம் பேசு\\n',\n",
       " '\\tஅவள் யார்?\\n',\n",
       " '\\tபோய் தூங்கு\\n',\n",
       " '\\tமழை பெய்யலாம்\\n',\n",
       " '\\tஅவள் அவனைக் கடித்தாள்\\n',\n",
       " '\\tஅவள் அவனைக் அடித்தாள்\\n',\n",
       " '\\tஅவள் அன்பானவள்\\n',\n",
       " '\\tஅவளுக்கு எட்டு வயது\\n',\n",
       " '\\tநாம் எங்கே இருக்கிறோம்?\\n',\n",
       " '\\tதொடர்பில் இரு\\n',\n",
       " '\\tமறுபடியும் சந்திப்போம்\\n',\n",
       " '\\tஅவளிடம் கொடு\\n',\n",
       " '\\tநான் நிறைய சாப்பிட்டேன்\\n',\n",
       " '\\tஅதை நான் பார்க்கிறேன்\\n',\n",
       " '\\tஉன் கையில்தான் இருக்கிறது\\n',\n",
       " '\\tஎன்னிடம் விட்டுவிடு\\n',\n",
       " '\\tஇதைக் கேள்\\n',\n",
       " '\\tஅந்த பக்கம்தான் வழி\\n',\n",
       " '\\tஎன்னை வந்து பார்\\n',\n",
       " '\\tஎன்னிடம் பொய் சொல்லாதே\\n',\n",
       " '\\tஅவன் ஓட ஆரம்பித்தான்\\n',\n",
       " '\\tஅவன் இப்பொழுதுதான் வந்தான்\\n',\n",
       " '\\tஅவன் ஓட விருப்பப் படுகிறான்\\n',\n",
       " '\\tதங்களுடைய தந்தையார் எப்படி இருக்கிறார்கள்?\\n',\n",
       " '\\tநான் தூங்க விரும்புகிறேன்\\n',\n",
       " '\\tஎன்னால் ஓட முடிகிறது\\n',\n",
       " '\\tகையைத் தூக்கு\\n',\n",
       " '\\tஅவன் என்ன சொன்னான்?\\n',\n",
       " '\\tஎப்பொழுது நம்மால் சாப்பிட முடியும்\\n',\n",
       " '\\tவா எங்களுக்கு உதவி செய்\\n',\n",
       " '\\tஅவன் இன்னும் இருக்கிறான்\\n',\n",
       " '\\tநான் இப்பொழுது போக வேண்டும்\\n',\n",
       " '\\tஎனக்கு அவ்வளவு தெரியும்.\\n',\n",
       " '\\tநான் ஒரு தவறு செய்தேன்?\\n',\n",
       " '\\tநான் பள்ளிக்கு நடந்து செல்கிறேன்\\n',\n",
       " '\\tஅது எங்களுடைய வீடு\\n',\n",
       " '\\tஅவைகள் என்னுடைய CD கள்\\n',\n",
       " '\\tஎனக்கு முன்னால் நட\\n',\n",
       " '\\tநாங்கள் உன்னைத் பின்பற்றுவோம் (அ) தொடர்வோம்.\\n',\n",
       " '\\tநாய் ஜாக்கிரதை!\\n',\n",
       " '\\tஅவன் சீக்கிரம் திரும்பி வந்தான்\\n',\n",
       " '\\tஅவருக்கு மூன்று மகன்கள்\\n',\n",
       " '\\tஎப்படி பனியில் சறுக்கி விளையாடுவது என்பது எனக்கு தெரியும்\\n',\n",
       " '\\tஎன்ன செய்வது என்பது எனக்குத் தெரியும்\\n',\n",
       " '\\tநான் ஒரு விதமான மகிழ்ச்சியிலிருக்கிறேன்\\n',\n",
       " '\\tவலது பக்கத்தை கடைப் பிடி\\n',\n",
       " '\\tஅவள் பாட ஆரம்பித்தாள்\\n',\n",
       " '\\tஅவள் போகத் தீர்மானித்தாள்\\n',\n",
       " '\\tநான் படிக்க வேண்டுமா?\\n',\n",
       " '\\tஅவன் வருவது நிச்சயம்\\n',\n",
       " '\\tநான் வீட்டிற்கு நடக்க வேண்டியிருந்தது\\n',\n",
       " '\\tநான் ஆடை அணிய வேண்டும்\\n',\n",
       " '\\tநான் அவனை வரச் சொன்னேன்\\n',\n",
       " '\\tஎன்னிடம் பணம் குறைவாக இருக்கிறது\\n',\n",
       " '\\tநான் உன்னிடம் பேசலாமா?\\n',\n",
       " '\\tஅவள் இதை அவனுக்குக் கொடுத்தாள்\\n',\n",
       " '\\tஅவள் அவனிடம் அன்பாக இருக்கிறாள்\\n',\n",
       " '\\tஅவள் எனக்கு அருகில் அமர்ந்தாள்\\n',\n",
       " '\\tவாயை மூடி கவனி\\n',\n",
       " '\\tநான் என்ன செய்ய வேண்டும் என்று சொல்\\n',\n",
       " '\\tடாம் ரொம்ப வேகமாக ஓடுகிறான்\\n',\n",
       " '\\tஎங்களுக்கு உணவு தட்டுப்பாடு ஏற்பட்டது\\n',\n",
       " '\\tநாங்கள் நடக்க ஆரம்பித்தோம்\\n',\n",
       " '\\tஇது எப்பொழுது ஆரம்பிக்கிறது?\\n',\n",
       " '\\tநீங்கள் போகத் தயாராக இருக்கிறீர்களா?\\n',\n",
       " '\\tஉன்னிடம் ஏதாவது பசை இருக்கிறதா?\\n',\n",
       " '\\tஅவள் பியானோ வாசிக்கிறாளோ?\\n',\n",
       " '\\tஅவள் சொல்வதைக் கேட்காதீர்\\n',\n",
       " '\\tபோய் மேரியை எழுப்பு\\n',\n",
       " '\\tஅவனுக்கு நம்மைப் தெரியும் என்று தோன்றுகிறது\\n',\n",
       " '\\tஎனக்கு அவளோடு நிச்சயமாகியிருக்கு\\n',\n",
       " '\\tநான் இப்பொழுது கிளம்ப வேண்டும்\\n',\n",
       " '\\tநான் வெளி நாட்டிற்குச் செல்ல விரும்புகிறேன்\\n',\n",
       " '\\tஉன்னைப் பார்ப்பதில் நான் மகிழ்ச்சி அடைகிறேன்\\n',\n",
       " '\\tஎன் மகனைப் பற்றி பெருமைப் படுகிறேன்\\n',\n",
       " '\\tநான் உன்னை விட உயரமாக இருக்கிறேன்\\n',\n",
       " '\\tநான் தூங்குவதற்கு முயற்சி செய்து கொண்டிருக்கிறேன்\\n',\n",
       " '\\tஇதற்கு கட்டணமில்லை\\n',\n",
       " '\\tதூக்கத்திலிருந்து எழுவதற்கான நேரம் இது\\n',\n",
       " '\\tஎன் கூட யாரும் பேசுவதில்லை\\n',\n",
       " '\\tபந்தை என்னிடம் உருட்டி விடு\\n',\n",
       " '\\tஅவள் முட்டைகளை வேக வைத்தாள்\\n',\n",
       " '\\tஅவள் அவனோடு நடனம் ஆடினாள்\\n',\n",
       " '\\tஅவள் அவனுக்கு ஒரு புத்தகத்தைக் கொடுத்தாள்\\n',\n",
       " '\\tஅவளிடம் 2000 புத்தகங்கள் உள்ளன\\n',\n",
       " '\\tஇந்த ஆப்பிள் இனிப்பாக இருக்கிறது\\n',\n",
       " '\\tஅவன் ஏரியில் நீச்சலடித்தான்\\n',\n",
       " '\\tஆறு மணிக்கு முன்பு வீட் டிற்கு வா\\n',\n",
       " '\\tபோய் யார் என்று பார்\\n',\n",
       " '\\tஎனக்குக் கரடிகளைக கண்டால் பயம்\\n',\n",
       " '\\tஅவன் வருவான் என எதிர் பார்க்கிறேன்\\n',\n",
       " '\\tஇது ஒரு கேக்கின் துண்டு\\n',\n",
       " '\\tஅந்த பையன் அழ ஆரம்பித்தான்\\n',\n",
       " '\\tநீ இதில் தலையிடாதே\\n',\n",
       " '\\tநாங்கள் அனைவரும் அமைதியாக இருந்தோம்\\n',\n",
       " '\\tவயோதிகர்களிடம் அன்பாக இரு\\n',\n",
       " '\\tஜேப்படிகாரர்களிடம் ஜாக்கிரதையாக இருக்கவும்\\n',\n",
       " '\\tகுடித்துவிட்டு வண்டி ஓட்டாதே\\n',\n",
       " '\\tஅவனுக்கு எழுதப் படிக்கத் தெரியும்\\n',\n",
       " '\\tஅவனுக்கு நிறைய பணம் கிடைத்தது\\n',\n",
       " '\\tஅவனிடம் நிறைய பணமிருக்கிறது\\n',\n",
       " '\\tஅவனுக்கு இறந்து போவதென்றால் பயம்\\n',\n",
       " '\\tஅவன் கயிற்றை விட்டான்\\n',\n",
       " '\\tநான் வேலை பளுவினால் சோர்வாகயிருக்கிறேன்\\n',\n",
       " '\\tநான் டாக்ஸியிலிருந்து இறங்கினேன்\\n',\n",
       " '\\tஇது உங்களுக்கு சம்பந்தமில்லாத விஷயம்\\n',\n",
       " '\\tஅவர்கள் மேரியை கிண்டலடித்தார்கள்\\n',\n",
       " '\\tடாமும் நானும் நண்பர்கள்\\n',\n",
       " '\\tஉங்கள் பிறந்த நாள் எப்போது ?\\n',\n",
       " '\\tஅவர்கள் எல்லோரும் அங்கே சென்றார்கள்\\n',\n",
       " '\\tஉங்களுக்கு சைக்கிள் ஓட்டத் தெரியுமா?\\n',\n",
       " '\\tநீ பணக்காரராக விருப்பமா?\\n',\n",
       " '\\tஅவர்களுக்கு பாம்புகள் என்றால் பயம்\\n',\n",
       " '\\tஅவனுக்கு நீச்சல் மீது பற்று உண்டு\\n',\n",
       " '\\tஅவன் எனக்குப் பதிலாக சேன்றான்\\n',\n",
       " '\\tஅவனுக்குக் கடல் என்றால் பயம்\\n',\n",
       " '\\tநான் அதை உன்னிடம் விட்டு விடுகிறேன்\\n',\n",
       " '\\tஅவள் உன்னை வெறுக்கிற மாதிரி தெரிகிறது\\n',\n",
       " '\\tஅவள் அவனுக்கு நிச்சயிக்கப் பட்டாள்\\n',\n",
       " '\\tஅவள் அவனுக்கு திருமணம் செய்து வைக்கப் பட்டாள்\\n',\n",
       " '\\tஅவனுக்கு நெருக்கமாக நின்றாள்\\n',\n",
       " '\\tஅவர்கள் கிளம்ப இருக்கிறார்கள்\\n',\n",
       " '\\tஇந்த சீடி அவளுக்குச் சொந்தமானது\\n',\n",
       " '\\tநாங்கள் திருடனுக்குப் பின்னால் ஓடினோம்\\n',\n",
       " '\\tநீ என்ன செய்யத் திட்டமிட்டிருக்கிறாய்\\n',\n",
       " '\\tஒரு சதுரத்திற்கு நான்கு பக்கங்கள் உள்ளன\\n',\n",
       " '\\tஎன்னுடைய கணக்கிற்கு மாற்று\\n',\n",
       " '\\tஅவர்கள் கடிதம் எழுதினார்களா?\\n',\n",
       " '\\tஎங்களை உதவி செய்யும்படி கேட்டான்\\n',\n",
       " '\\tஅவன் ஒவ்வொருவருக்கும் அறிமுகமானவன்\\n',\n",
       " '\\tஎங்களுடைய திட்டத்திற்கு எதிர்ப்புத் தெரிவித்தான்\\n',\n",
       " '\\tநீ வர வேண்டுமென விரும்புகிறேன்\\n',\n",
       " '\\tஎனக்கு சாப்பிட ஏதாவது வேண்டும்\\n',\n",
       " '\\tஅவர் உங்களுடைய நண்பரா?\\n',\n",
       " '\\tசெய்தி வேகமாக பரவியது\\n',\n",
       " '\\tஇது எங்கே இருக்கு என்று என்னால் கண்டுபிடிக்க முடியவில்லை.\\n',\n",
       " '\\tநீ கோபமாக இருப்பாய் என்று எண்ணினேன்.\\n',\n",
       " '\\tஇங்கே அமருங்கள்,தயவு செயது காத்திருங்கள்\\n',\n",
       " '\\tஅவள் அறையை விட்டு வெளியே சென்றாள்\\n',\n",
       " '\\tமெதுவாகவும் தெளிவாகவும் பேசுங்கள்\\n',\n",
       " '\\tவானம் முழுவதும் நட்சத்திரங்கள் இருக்கின்றன\\n',\n",
       " '\\tஉடனே வந்து என்னைப் பார்க்கவும்\\n',\n",
       " '\\tஉன்னிடம் நிறைய பேனாக்கள் இருக்கின்றனவா?\\n',\n",
       " '\\tபோய் உன் தந்தையருகில் அமரவும்\\n',\n",
       " '\\tநான் ஒரு ஜோடி காலணிகளை வாங்கினேன்\\n',\n",
       " '\\tநான் கீழ் தளத்தில் வசிக்கிறேன்\\n',\n",
       " '\\tடாமுக்கும் ஜானுக்கும் இடையில் அமர்ந்தேன்\\n',\n",
       " '\\tஅவள் அழகான ஆடை அணிந்திருந்தாள்\\n',\n",
       " '\\tநீ எப்பொழுது ஜப்பான் வந்தாய்?\\n',\n",
       " '\\tநிறைய மக்கள் நான் பைத்தியம் என்று எண்ணுகிறார்கள்\\n',\n",
       " '\\tடாம் இன்னும் உயிருடனிருக்கிறான் என்று எண்ணுகிறேன்.\\n',\n",
       " '\\tஅவனைக் கொஞ்சம் பணம் கேட்டாள்\\n',\n",
       " '\\tடாம் அதைப் பற்றி அவனே என்னிடம் சொன்னான்.\\n',\n",
       " '\\tஅவன் எப்ப வருவான் என்று உனக்குத் தெரியுமா\\n',\n",
       " '\\tஒரு நாயின் படத்தை வரைந்தான்\\n',\n",
       " '\\tமற்றவர்களுக்கு முன்னே நான் வந்தேன்\\n',\n",
       " '\\tஇந்த ஊரின் ஒவ்வொரு அங்குலமும் எனக்குத் தெரியும்\\n',\n",
       " '\\tடாமிடம் நான் இதை பகிர்ந்துகொண்டு இருக்கவில்லை.\\n',\n",
       " '\\tஅவள் எதற்கும் பயப்படுவதில்லை\\n',\n",
       " '\\tமுட்டைகளின் விலை அதிகரித்துக் கொண்டிருக்கிறது\\n',\n",
       " '\\tஇந்த தொப்பியின் விலை என்ன?\\n',\n",
       " '\\tஇவர்களில் யார் உன்னுடைய சகோதரர்\\n',\n",
       " '\\tமணி ஒலித்தப் பிறகு அவன் வந்தான்\\n',\n",
       " '\\tஅவன் அபாயத்தை அறிந்திருக்க வில்லை\\n',\n",
       " '\\tசின்ன கேக்குத் துண்டு அவள் தொண்டையில் சிக்கிக் கொண்டது\\n',\n",
       " '\\tஇந்த பள்ளி கூடம் ஒரு சிறைச்சாலையைப் போல இருக்கிறது\\n',\n",
       " '\\tஎப்படி பதில் சொல்வது என்பதில் நான் உறுதியாக இல்லை.\\n',\n",
       " '\\tஇங்கிருந்து வெளியே செல்ல சுலபமான வழியில்லை.\\n',\n",
       " '\\tமூன்று மோசமான நாய்கள் டாமை தாக்கின\\n',\n",
       " '\\tடாம் ஒரு வருடத்திற்கு முன்னால் ஆஸ்திரேலியாவில் இருந்தார்\\n',\n",
       " '\\tகல்யாணம் எப்பொழுது நடைப் பெற்றது\\n',\n",
       " '\\tநீ பாஸ்போர்ட்டைஎங்கே வைத்திருக்கிறாய்?\\n',\n",
       " '\\tஅவனுக்கு உடல் நிலை சரியில்லாததனால் அவனால் வர இயலாது\\n',\n",
       " '\\tநட்புக்குத் தேவை பரஸ்பர நம்பிக்கை\\n',\n",
       " '\\tஅவன் மேரியின் விரலில் மோதிரத்தை அணிவித்தான்\\n',\n",
       " '\\tஅவள் பத்திரிக்கையை மேலோட்டமாகப் பார்த்தாள்\\n',\n",
       " '\\tடாம் மதியம் முழுவதும் அழுதுகொண்டேயிருக்கிறான்.\\n',\n",
       " '\\tடாம் மேரியுடன் தொடர்பிலிருந்துருக்கிறான் அல்லது டாம் மேரியுடன் தொடர்பிலிருக்கிறான்.\\n',\n",
       " '\\tநான் எதிர் காலத்தில் ஒரு விமானியாக விரும்புகிறேன்\\n',\n",
       " '\\tடாம் ஓடிவிட்டால், அவரால் எங்கு செல்ல முடியும்?\\n',\n",
       " '\\tஇரயிலில் என்னிடம் ஜேப்படி அடிக்கப் பட்டிருந்தது\\n',\n",
       " '\\tஅவன் அவளிடம் ஏதோ சொன்னான் மற்றும் அவள் சிரித்தாள்.\\n',\n",
       " '\\tஇருட்டாக இருக்கும் பொழுது நான் வெளியே போக விரும்புவதில்லை.\\n',\n",
       " '\\tஅவன் பேசியப் பொழுது எல்லோரும் அமைதி காத்தார்கள்\\n',\n",
       " '\\tடாம் நள்ளிரவு வரை எங்களுடன் குடித்தார்.\\n',\n",
       " '\\tஅவன் ஒட்டினக் காரில் அவள் எப்பொழுதும் இருந்ததில்லை\\n',\n",
       " '\\tடாம் மேரியுடன் ஒவ்வொரு ஞாயிற்றுக் கிழமையும் தேவாலயத்துக்குச் செல்கிறான்.\\n',\n",
       " '\\tமக்கள் அந்த வார்த்தையைப் பயன் படுத்துவதாக எனக்குத் தெரியவில்லை\\n',\n",
       " '\\tஎன் தங்கை இள வயதிலேய கல்யாணம் செய்து கொண்டாள்\\n',\n",
       " '\\tஏன் டாம் நாமிருவரும் சேர்ந்து செய்வோமென்று பரிந்துரைத்தான் என்று ஆச்சரியமடைகிறேன்.\\n',\n",
       " '\\tஎன் ஒருவனால் மட்டுமே அதை செய்ய முடியாது என்று நினைக்கிறேன் என டாம் கூறினார்\\n',\n",
       " '\\tகண்ணாடி வீட்டில் வசிப்பவகள் கல்லை எறியக் கூடாது\\n',\n",
       " '\\tஒருவர் அந்த வார்த்தையைப் பயன் படுத்துவதைக் கேட்டு ரொம்ப நாளாகிறது\\n',\n",
       " '\\tஉங்களுடைய வேலையாட்கள் மகிழ்ச்சியாக இருக்க வேண்டுமென்றால் நீங்கள் கணிசமான சம்பளம் தர வேண்டும்\\n',\n",
       " '\\tஎன்னுடையத் தவறினால் கேக்கானதுக் கருகிப் போனது.தோலைப் பேசியில் பேசிக் கொண்டிருந்ததால் நேரத்தைக் கவனிக்க வில்லை\\n']"
      ]
     },
     "execution_count": 10,
     "metadata": {},
     "output_type": "execute_result"
    }
   ],
   "source": [
    "target_texts"
   ]
  },
  {
   "cell_type": "code",
   "execution_count": 11,
   "id": "3d648a37",
   "metadata": {},
   "outputs": [],
   "source": [
    "t=target_texts\n",
    "target_texts=input_texts\n",
    "input_texts=t"
   ]
  },
  {
   "cell_type": "code",
   "execution_count": 12,
   "id": "ac0c45d5",
   "metadata": {},
   "outputs": [
    {
     "data": {
      "text/plain": [
       "['I slept.',\n",
       " 'Calm down.',\n",
       " \"I'll walk.\",\n",
       " 'Who is he?',\n",
       " 'Who knows?',\n",
       " 'She smiled.',\n",
       " 'Talk to me!',\n",
       " 'Who is she?',\n",
       " 'Go to sleep.',\n",
       " 'It may rain.',\n",
       " 'She bit him.',\n",
       " 'She hit him.',\n",
       " 'She is kind.',\n",
       " 'She is eight.',\n",
       " 'Where are we?',\n",
       " 'Keep in touch!',\n",
       " 'See you again.',\n",
       " 'Give it to her.',\n",
       " 'I ate too much.',\n",
       " \"I'll see to it.\",\n",
       " \"It's up to you.\",\n",
       " 'Leave it to me.',\n",
       " 'Listen to this!',\n",
       " \"That's the way.\",\n",
       " 'Come and see me.',\n",
       " \"Don't lie to me.\",\n",
       " 'He began to run.',\n",
       " 'He just arrived.',\n",
       " 'He likes to run.',\n",
       " 'How is your dad?',\n",
       " 'I want to sleep.',\n",
       " \"I'm able to run.\",\n",
       " 'Raise your hand.',\n",
       " 'What did he say?',\n",
       " 'When can we eat?',\n",
       " 'Come and help us.',\n",
       " 'He is still here.',\n",
       " 'I have to go now.',\n",
       " 'I know that much.',\n",
       " 'I made a mistake.',\n",
       " 'I walk to school.',\n",
       " \"That's our house.\",\n",
       " 'Those are my CDs.',\n",
       " 'Walk ahead of me.',\n",
       " \"We'll follow you.\",\n",
       " 'Beware of the dog!',\n",
       " 'He came back soon.',\n",
       " 'He has three sons.',\n",
       " 'I know how to ski.',\n",
       " 'I know what to do.',\n",
       " \"I'm kind of happy.\",\n",
       " 'Keep to the right.',\n",
       " 'She began to sing.',\n",
       " 'She decided to go.',\n",
       " 'Do I have to study?',\n",
       " 'He is sure to come.',\n",
       " 'I had to walk home.',\n",
       " 'I have to dress up.',\n",
       " 'I told him to come.',\n",
       " \"I'm short of money.\",\n",
       " 'May I speak to you?',\n",
       " 'She gave it to him.',\n",
       " 'She is kind to him.',\n",
       " 'She sat next to me.',\n",
       " 'Shut up and listen!',\n",
       " 'Tell me what to do.',\n",
       " 'Tom runs very fast.',\n",
       " 'We ran out of food.',\n",
       " 'We started to walk.',\n",
       " 'When does it begin?',\n",
       " 'Are you ready to go?',\n",
       " 'Do you have any gum?',\n",
       " 'Does she play piano?',\n",
       " \"Don't listen to her.\",\n",
       " 'Go and wake Mary up.',\n",
       " 'He seems to know us.',\n",
       " 'I am engaged to her.',\n",
       " 'I have to leave now.',\n",
       " 'I want to go abroad.',\n",
       " \"I'm glad to see you.\",\n",
       " \"I'm proud of my son.\",\n",
       " \"I'm taller than you.\",\n",
       " \"I'm trying to sleep.\",\n",
       " \"It's free of charge.\",\n",
       " \"It's time to get up.\",\n",
       " 'Nobody speaks to me.',\n",
       " 'Roll the ball to me.',\n",
       " 'She boiled the eggs.',\n",
       " 'She danced with him.',\n",
       " 'She gave him a book.',\n",
       " 'She has 2,000 books.',\n",
       " 'This apple is sweet.',\n",
       " 'We swam in the lake.',\n",
       " 'Come home before six.',\n",
       " 'Go and see who it is.',\n",
       " 'I am afraid of bears.',\n",
       " 'I expect him to come.',\n",
       " \"It's a piece of cake.\",\n",
       " 'The boy began to cry.',\n",
       " 'You keep out of this.',\n",
       " 'All of us were silent.',\n",
       " 'Be kind to old people.',\n",
       " 'Beware of pickpockets.',\n",
       " \"Don't drink and drive.\",\n",
       " 'He can read and write.',\n",
       " 'He got a lot of money.',\n",
       " 'He has a lot of money.',\n",
       " 'He is afraid of death.',\n",
       " 'He let go of the rope.',\n",
       " 'I am tired of my work.',\n",
       " 'I got out of the taxi.',\n",
       " 'None of your business.',\n",
       " 'They made fun of Mary.',\n",
       " 'Tom and I are friends.',\n",
       " 'When is your birthday?',\n",
       " 'All of them went there.',\n",
       " 'Can you ride a bicycle?',\n",
       " 'Do you want to be rich?',\n",
       " 'He is afraid of snakes.',\n",
       " 'He is fond of swimming.',\n",
       " 'He went in place of me.',\n",
       " \"He's afraid of the sea.\",\n",
       " \"I'll leave that to you.\",\n",
       " 'It seems she hates you.',\n",
       " 'She got engaged to him.',\n",
       " 'She got married to him.',\n",
       " 'She stood close to him.',\n",
       " \"They're about to leave.\",\n",
       " 'This CD belongs to her.',\n",
       " 'We ran after the thief.',\n",
       " 'What do you plan to do?',\n",
       " 'A square has four sides.',\n",
       " 'Charge it to my account.',\n",
       " 'Did they write a letter?',\n",
       " 'He asked us to help him.',\n",
       " 'He is known to everyone.',\n",
       " 'He objected to our plan.',\n",
       " 'I just want you to come.',\n",
       " 'I want something to eat.',\n",
       " 'Is he a friend of yours?',\n",
       " 'The news quickly spread.',\n",
       " \"I can't find it anywhere.\",\n",
       " \"I thought you'd be angry.\",\n",
       " 'Please sit here and wait.',\n",
       " 'She went out of the room.',\n",
       " 'Speak slowly and clearly.',\n",
       " 'The sky is full of stars.',\n",
       " 'Come and see me right now.',\n",
       " 'Do you have a lot of pens?',\n",
       " 'Go and sit by your father.',\n",
       " 'He bought a pair of shoes.',\n",
       " 'I live on the bottom floor.',\n",
       " 'I sat between Tom and John.',\n",
       " 'She wore a beautiful dress.',\n",
       " 'When did you come to Japan?',\n",
       " \"Most people think I'm crazy.\",\n",
       " 'I suppose Tom is still alive.',\n",
       " 'She asked him for some money.',\n",
       " 'Tom told me about it himself.',\n",
       " 'Do you know when he will come?',\n",
       " 'He painted a picture of a dog.',\n",
       " 'I arrived ahead of the others.',\n",
       " 'I know every inch of the town.',\n",
       " \"I'm not sharing this with Tom.\",\n",
       " 'She is not afraid of anything.',\n",
       " 'The price of eggs is going up.',\n",
       " 'What is the price of this cap?',\n",
       " 'Which of them is your brother?',\n",
       " 'He arrived after the bell rang.',\n",
       " 'He was not aware of the danger.',\n",
       " 'My throat hurts when I swallow.',\n",
       " 'The school looks like a prison.',\n",
       " \"I'm not sure how to answer this.\",\n",
       " \"There's no easy way out of here.\",\n",
       " 'Three vicious dogs attacked Tom.',\n",
       " 'Tom was in Australia a year ago.',\n",
       " 'When did the wedding take place?',\n",
       " 'Where do you keep your passport?',\n",
       " \"Because he's sick, he can't come.\",\n",
       " 'Friendship requires mutual trust.',\n",
       " \"He put the ring on Mary's finger.\",\n",
       " 'She glanced through the magazine.',\n",
       " 'Tom has been crying all afternoon.',\n",
       " 'Tom has been in contact with Mary.',\n",
       " 'I want to be a pilot in the future.',\n",
       " 'If Tom ran away, where could he go?',\n",
       " 'I had my pocket picked on the train.',\n",
       " 'He told her something and she smiled.',\n",
       " \"I don't like to go out when it's dark.\",\n",
       " 'When he spoke, everyone became silent.',\n",
       " 'Tom drank with us until after midnight.',\n",
       " 'She has never been in a car driven by him.',\n",
       " 'Tom goes to church with Mary every Sunday.',\n",
       " \"I don't think people use that word anymore.\",\n",
       " 'My younger sister got married in her teens.',\n",
       " 'I wonder why Tom suggested we do that together.',\n",
       " \"Tom says he doesn't think he can do that by himself.\",\n",
       " \"People who live in glass houses shouldn't throw stones.\",\n",
       " \"It's been a long time since I've heard anyone use that word.\",\n",
       " 'If you want your workers to be happy, you need to pay them a decent wage.',\n",
       " \"It's my fault that the cake was burned. I was talking on the phone and didn't notice the time.\"]"
      ]
     },
     "execution_count": 12,
     "metadata": {},
     "output_type": "execute_result"
    }
   ],
   "source": [
    "target_texts"
   ]
  },
  {
   "cell_type": "code",
   "execution_count": 13,
   "id": "d84c81f1",
   "metadata": {},
   "outputs": [
    {
     "data": {
      "text/plain": [
       "201"
      ]
     },
     "execution_count": 13,
     "metadata": {},
     "output_type": "execute_result"
    }
   ],
   "source": [
    "len(input_texts)"
   ]
  },
  {
   "cell_type": "code",
   "execution_count": 14,
   "id": "8ac419f2",
   "metadata": {},
   "outputs": [
    {
     "data": {
      "text/plain": [
       "201"
      ]
     },
     "execution_count": 14,
     "metadata": {},
     "output_type": "execute_result"
    }
   ],
   "source": [
    "len(target_texts)"
   ]
  },
  {
   "cell_type": "code",
   "execution_count": 15,
   "id": "f1e44853",
   "metadata": {},
   "outputs": [],
   "source": [
    "import numpy as np\n",
    "from tensorflow.keras.models import Sequential\n",
    "from tensorflow.keras.layers import LSTM, Dense, Embedding\n",
    "from tensorflow.keras.preprocessing.text import Tokenizer\n",
    "from tensorflow.keras.preprocessing.sequence import pad_sequences"
   ]
  },
  {
   "cell_type": "code",
   "execution_count": 16,
   "id": "a0dccf85",
   "metadata": {},
   "outputs": [],
   "source": [
    "tokenizer_inputs = Tokenizer(filters='') \n",
    "tokenizer_outputs = Tokenizer(filters='')\n",
    "tokenizer_inputs.fit_on_texts(input_texts) \n",
    "tokenizer_outputs.fit_on_texts(target_texts)\n",
    "input_texts = tokenizer_inputs.texts_to_sequences(input_texts)\n",
    "output_sequences = tokenizer_outputs.texts_to_sequences(target_texts)"
   ]
  },
  {
   "cell_type": "code",
   "execution_count": 17,
   "id": "8f144d2d",
   "metadata": {},
   "outputs": [],
   "source": [
    "# Vocabulary size\n",
    "input_vocab_size = len(tokenizer_inputs.word_index) \n",
    "output_vocab_size = len(tokenizer_outputs.word_index) \n",
    "\n",
    "# Padding sequences\n",
    "max_input_length = max(len(seq) for seq in input_texts) + 1\n",
    "max_output_length = max(len(seq) for seq in output_sequences) + 1 \n",
    "\n",
    "padded_input_sequences = pad_sequences(input_texts, maxlen=20, padding='post')\n",
    "padded_output_sequences = pad_sequences(output_sequences, maxlen=20, padding='post')"
   ]
  },
  {
   "cell_type": "code",
   "execution_count": 18,
   "id": "a6f15df0",
   "metadata": {},
   "outputs": [
    {
     "data": {
      "text/plain": [
       "12"
      ]
     },
     "execution_count": 18,
     "metadata": {},
     "output_type": "execute_result"
    }
   ],
   "source": [
    "max_input_length"
   ]
  },
  {
   "cell_type": "code",
   "execution_count": 19,
   "id": "77024b1a",
   "metadata": {},
   "outputs": [
    {
     "data": {
      "text/plain": [
       "(201, 20)"
      ]
     },
     "execution_count": 19,
     "metadata": {},
     "output_type": "execute_result"
    }
   ],
   "source": [
    "padded_input_sequences.shape"
   ]
  },
  {
   "cell_type": "code",
   "execution_count": 20,
   "id": "cf2a4d43",
   "metadata": {},
   "outputs": [
    {
     "data": {
      "text/plain": [
       "20"
      ]
     },
     "execution_count": 20,
     "metadata": {},
     "output_type": "execute_result"
    }
   ],
   "source": [
    "max_output_length"
   ]
  },
  {
   "cell_type": "code",
   "execution_count": 21,
   "id": "a4931192",
   "metadata": {},
   "outputs": [
    {
     "data": {
      "text/plain": [
       "598"
      ]
     },
     "execution_count": 21,
     "metadata": {},
     "output_type": "execute_result"
    }
   ],
   "source": [
    "input_vocab_size "
   ]
  },
  {
   "cell_type": "code",
   "execution_count": 22,
   "id": "d591ee31",
   "metadata": {},
   "outputs": [
    {
     "data": {
      "text/plain": [
       "431"
      ]
     },
     "execution_count": 22,
     "metadata": {},
     "output_type": "execute_result"
    }
   ],
   "source": [
    "output_vocab_size"
   ]
  },
  {
   "cell_type": "code",
   "execution_count": 23,
   "id": "47ab6a59",
   "metadata": {},
   "outputs": [
    {
     "data": {
      "text/plain": [
       "(201, 20)"
      ]
     },
     "execution_count": 23,
     "metadata": {},
     "output_type": "execute_result"
    }
   ],
   "source": [
    "padded_output_sequences.shape"
   ]
  },
  {
   "cell_type": "code",
   "execution_count": 24,
   "id": "d65159be",
   "metadata": {},
   "outputs": [],
   "source": [
    "embedding_dim=20"
   ]
  },
  {
   "cell_type": "code",
   "execution_count": 25,
   "id": "895cc764",
   "metadata": {},
   "outputs": [],
   "source": [
    "latent_dim=128"
   ]
  },
  {
   "cell_type": "code",
   "execution_count": 26,
   "id": "28bb5e89",
   "metadata": {},
   "outputs": [],
   "source": [
    "from tensorflow.keras.layers import Input, Embedding, LSTM, Dense\n",
    "from tensorflow.keras.models import Model\n",
    "\n",
    "# Encoder\n",
    "encoder_inputs = Input(shape=(20,))\n",
    "encoder_embedding = Embedding(input_vocab_size + 1, embedding_dim)(encoder_inputs)  # Add 1 to vocab size\n",
    "encoder_lstm = LSTM(latent_dim, return_state=True)\n",
    "encoder_outputs, state_h, state_c = encoder_lstm(encoder_embedding)\n",
    "encoder_states = [state_h, state_c]\n",
    "\n",
    "# Decoder\n",
    "decoder_inputs = Input(shape=(max_output_length,))\n",
    "decoder_embedding = Embedding(output_vocab_size + 1, embedding_dim)(decoder_inputs)  # Add 1 to vocab size\n",
    "decoder_lstm = LSTM(latent_dim, return_sequences=True, return_state=True)\n",
    "decoder_outputs, _, _ = decoder_lstm(decoder_embedding, initial_state=encoder_states)\n",
    "decoder_dense = Dense(output_vocab_size + 1, activation='softmax')  # Add 1 to vocab size\n",
    "decoder_outputs = decoder_dense(decoder_outputs)\n",
    "\n",
    "# Define the model\n",
    "model = Model([encoder_inputs, decoder_inputs], decoder_outputs)\n"
   ]
  },
  {
   "cell_type": "code",
   "execution_count": 36,
   "id": "9ddafae8",
   "metadata": {},
   "outputs": [],
   "source": [
    "from tensorflow.keras.optimizers.legacy import Adam\n",
    "from tensorflow.keras.metrics import Accuracy\n",
    "accuracy= Accuracy()\n",
    "model.compile(optimizer= Adam(), loss='sparse_categorical_crossentropy',metrics=[accuracy])"
   ]
  },
  {
   "cell_type": "code",
   "execution_count": 28,
   "id": "676e56e9",
   "metadata": {},
   "outputs": [
    {
     "data": {
      "text/plain": [
       "(201, 20)"
      ]
     },
     "execution_count": 28,
     "metadata": {},
     "output_type": "execute_result"
    }
   ],
   "source": [
    "padded_input_sequences.shape "
   ]
  },
  {
   "cell_type": "code",
   "execution_count": 35,
   "id": "9b1b74a8",
   "metadata": {},
   "outputs": [
    {
     "name": "stdout",
     "output_type": "stream",
     "text": [
      "Epoch 1/100\n"
     ]
    },
    {
     "ename": "ValueError",
     "evalue": "in user code:\n\n    File \"C:\\Users\\LEN\\miniconda3\\envs\\py37\\lib\\site-packages\\keras\\engine\\training.py\", line 1249, in train_function  *\n        return step_function(self, iterator)\n    File \"C:\\Users\\LEN\\miniconda3\\envs\\py37\\lib\\site-packages\\keras\\engine\\training.py\", line 1233, in step_function  **\n        outputs = model.distribute_strategy.run(run_step, args=(data,))\n    File \"C:\\Users\\LEN\\miniconda3\\envs\\py37\\lib\\site-packages\\keras\\engine\\training.py\", line 1222, in run_step  **\n        outputs = model.train_step(data)\n    File \"C:\\Users\\LEN\\miniconda3\\envs\\py37\\lib\\site-packages\\keras\\engine\\training.py\", line 1028, in train_step\n        return self.compute_metrics(x, y, y_pred, sample_weight)\n    File \"C:\\Users\\LEN\\miniconda3\\envs\\py37\\lib\\site-packages\\keras\\engine\\training.py\", line 1122, in compute_metrics\n        self.compiled_metrics.update_state(y, y_pred, sample_weight)\n    File \"C:\\Users\\LEN\\miniconda3\\envs\\py37\\lib\\site-packages\\keras\\engine\\compile_utils.py\", line 605, in update_state\n        metric_obj.update_state(y_t, y_p, sample_weight=mask)\n    File \"C:\\Users\\LEN\\miniconda3\\envs\\py37\\lib\\site-packages\\keras\\utils\\metrics_utils.py\", line 77, in decorated\n        update_op = update_state_fn(*args, **kwargs)\n    File \"C:\\Users\\LEN\\miniconda3\\envs\\py37\\lib\\site-packages\\keras\\metrics\\base_metric.py\", line 140, in update_state_fn\n        return ag_update_state(*args, **kwargs)\n    File \"C:\\Users\\LEN\\miniconda3\\envs\\py37\\lib\\site-packages\\keras\\metrics\\base_metric.py\", line 691, in update_state  **\n        matches = ag_fn(y_true, y_pred, **self._fn_kwargs)\n    File \"C:\\Users\\LEN\\miniconda3\\envs\\py37\\lib\\site-packages\\keras\\metrics\\metrics.py\", line 3571, in accuracy  **\n        y_true.shape.assert_is_compatible_with(y_pred.shape)\n\n    ValueError: Shapes (None, 20) and (None, 20, 432) are incompatible\n",
     "output_type": "error",
     "traceback": [
      "\u001b[1;31m---------------------------------------------------------------------------\u001b[0m",
      "\u001b[1;31mValueError\u001b[0m                                Traceback (most recent call last)",
      "\u001b[1;32m~\\AppData\\Local\\Temp\\ipykernel_20240\\1262655386.py\u001b[0m in \u001b[0;36m<module>\u001b[1;34m\u001b[0m\n\u001b[0;32m      1\u001b[0m \u001b[1;31m# Train the model\u001b[0m\u001b[1;33m\u001b[0m\u001b[1;33m\u001b[0m\u001b[1;33m\u001b[0m\u001b[0m\n\u001b[1;32m----> 2\u001b[1;33m \u001b[0mmodel\u001b[0m\u001b[1;33m.\u001b[0m\u001b[0mfit\u001b[0m\u001b[1;33m(\u001b[0m\u001b[1;33m[\u001b[0m\u001b[0mpadded_input_sequences\u001b[0m\u001b[1;33m,\u001b[0m \u001b[0mpadded_output_sequences\u001b[0m\u001b[1;33m]\u001b[0m\u001b[1;33m,\u001b[0m \u001b[0mpadded_output_sequences\u001b[0m\u001b[1;33m,\u001b[0m \u001b[0mepochs\u001b[0m\u001b[1;33m=\u001b[0m\u001b[1;36m100\u001b[0m\u001b[1;33m,\u001b[0m\u001b[0mvalidation_data\u001b[0m\u001b[1;33m=\u001b[0m\u001b[1;33m(\u001b[0m\u001b[1;33m[\u001b[0m\u001b[0mx_test\u001b[0m\u001b[1;33m,\u001b[0m \u001b[0my_test\u001b[0m\u001b[1;33m]\u001b[0m\u001b[1;33m,\u001b[0m \u001b[0my_test\u001b[0m\u001b[1;33m)\u001b[0m\u001b[1;33m)\u001b[0m\u001b[1;33m\u001b[0m\u001b[1;33m\u001b[0m\u001b[0m\n\u001b[0m",
      "\u001b[1;32m~\\miniconda3\\envs\\py37\\lib\\site-packages\\keras\\utils\\traceback_utils.py\u001b[0m in \u001b[0;36merror_handler\u001b[1;34m(*args, **kwargs)\u001b[0m\n\u001b[0;32m     68\u001b[0m             \u001b[1;31m# To get the full stack trace, call:\u001b[0m\u001b[1;33m\u001b[0m\u001b[1;33m\u001b[0m\u001b[1;33m\u001b[0m\u001b[0m\n\u001b[0;32m     69\u001b[0m             \u001b[1;31m# `tf.debugging.disable_traceback_filtering()`\u001b[0m\u001b[1;33m\u001b[0m\u001b[1;33m\u001b[0m\u001b[1;33m\u001b[0m\u001b[0m\n\u001b[1;32m---> 70\u001b[1;33m             \u001b[1;32mraise\u001b[0m \u001b[0me\u001b[0m\u001b[1;33m.\u001b[0m\u001b[0mwith_traceback\u001b[0m\u001b[1;33m(\u001b[0m\u001b[0mfiltered_tb\u001b[0m\u001b[1;33m)\u001b[0m \u001b[1;32mfrom\u001b[0m \u001b[1;32mNone\u001b[0m\u001b[1;33m\u001b[0m\u001b[1;33m\u001b[0m\u001b[0m\n\u001b[0m\u001b[0;32m     71\u001b[0m         \u001b[1;32mfinally\u001b[0m\u001b[1;33m:\u001b[0m\u001b[1;33m\u001b[0m\u001b[1;33m\u001b[0m\u001b[0m\n\u001b[0;32m     72\u001b[0m             \u001b[1;32mdel\u001b[0m \u001b[0mfiltered_tb\u001b[0m\u001b[1;33m\u001b[0m\u001b[1;33m\u001b[0m\u001b[0m\n",
      "\u001b[1;32m~\\miniconda3\\envs\\py37\\lib\\site-packages\\keras\\engine\\training.py\u001b[0m in \u001b[0;36mtf__train_function\u001b[1;34m(iterator)\u001b[0m\n\u001b[0;32m     13\u001b[0m                 \u001b[1;32mtry\u001b[0m\u001b[1;33m:\u001b[0m\u001b[1;33m\u001b[0m\u001b[1;33m\u001b[0m\u001b[0m\n\u001b[0;32m     14\u001b[0m                     \u001b[0mdo_return\u001b[0m \u001b[1;33m=\u001b[0m \u001b[1;32mTrue\u001b[0m\u001b[1;33m\u001b[0m\u001b[1;33m\u001b[0m\u001b[0m\n\u001b[1;32m---> 15\u001b[1;33m                     \u001b[0mretval_\u001b[0m \u001b[1;33m=\u001b[0m \u001b[0mag__\u001b[0m\u001b[1;33m.\u001b[0m\u001b[0mconverted_call\u001b[0m\u001b[1;33m(\u001b[0m\u001b[0mag__\u001b[0m\u001b[1;33m.\u001b[0m\u001b[0mld\u001b[0m\u001b[1;33m(\u001b[0m\u001b[0mstep_function\u001b[0m\u001b[1;33m)\u001b[0m\u001b[1;33m,\u001b[0m \u001b[1;33m(\u001b[0m\u001b[0mag__\u001b[0m\u001b[1;33m.\u001b[0m\u001b[0mld\u001b[0m\u001b[1;33m(\u001b[0m\u001b[0mself\u001b[0m\u001b[1;33m)\u001b[0m\u001b[1;33m,\u001b[0m \u001b[0mag__\u001b[0m\u001b[1;33m.\u001b[0m\u001b[0mld\u001b[0m\u001b[1;33m(\u001b[0m\u001b[0miterator\u001b[0m\u001b[1;33m)\u001b[0m\u001b[1;33m)\u001b[0m\u001b[1;33m,\u001b[0m \u001b[1;32mNone\u001b[0m\u001b[1;33m,\u001b[0m \u001b[0mfscope\u001b[0m\u001b[1;33m)\u001b[0m\u001b[1;33m\u001b[0m\u001b[1;33m\u001b[0m\u001b[0m\n\u001b[0m\u001b[0;32m     16\u001b[0m                 \u001b[1;32mexcept\u001b[0m\u001b[1;33m:\u001b[0m\u001b[1;33m\u001b[0m\u001b[1;33m\u001b[0m\u001b[0m\n\u001b[0;32m     17\u001b[0m                     \u001b[0mdo_return\u001b[0m \u001b[1;33m=\u001b[0m \u001b[1;32mFalse\u001b[0m\u001b[1;33m\u001b[0m\u001b[1;33m\u001b[0m\u001b[0m\n",
      "\u001b[1;31mValueError\u001b[0m: in user code:\n\n    File \"C:\\Users\\LEN\\miniconda3\\envs\\py37\\lib\\site-packages\\keras\\engine\\training.py\", line 1249, in train_function  *\n        return step_function(self, iterator)\n    File \"C:\\Users\\LEN\\miniconda3\\envs\\py37\\lib\\site-packages\\keras\\engine\\training.py\", line 1233, in step_function  **\n        outputs = model.distribute_strategy.run(run_step, args=(data,))\n    File \"C:\\Users\\LEN\\miniconda3\\envs\\py37\\lib\\site-packages\\keras\\engine\\training.py\", line 1222, in run_step  **\n        outputs = model.train_step(data)\n    File \"C:\\Users\\LEN\\miniconda3\\envs\\py37\\lib\\site-packages\\keras\\engine\\training.py\", line 1028, in train_step\n        return self.compute_metrics(x, y, y_pred, sample_weight)\n    File \"C:\\Users\\LEN\\miniconda3\\envs\\py37\\lib\\site-packages\\keras\\engine\\training.py\", line 1122, in compute_metrics\n        self.compiled_metrics.update_state(y, y_pred, sample_weight)\n    File \"C:\\Users\\LEN\\miniconda3\\envs\\py37\\lib\\site-packages\\keras\\engine\\compile_utils.py\", line 605, in update_state\n        metric_obj.update_state(y_t, y_p, sample_weight=mask)\n    File \"C:\\Users\\LEN\\miniconda3\\envs\\py37\\lib\\site-packages\\keras\\utils\\metrics_utils.py\", line 77, in decorated\n        update_op = update_state_fn(*args, **kwargs)\n    File \"C:\\Users\\LEN\\miniconda3\\envs\\py37\\lib\\site-packages\\keras\\metrics\\base_metric.py\", line 140, in update_state_fn\n        return ag_update_state(*args, **kwargs)\n    File \"C:\\Users\\LEN\\miniconda3\\envs\\py37\\lib\\site-packages\\keras\\metrics\\base_metric.py\", line 691, in update_state  **\n        matches = ag_fn(y_true, y_pred, **self._fn_kwargs)\n    File \"C:\\Users\\LEN\\miniconda3\\envs\\py37\\lib\\site-packages\\keras\\metrics\\metrics.py\", line 3571, in accuracy  **\n        y_true.shape.assert_is_compatible_with(y_pred.shape)\n\n    ValueError: Shapes (None, 20) and (None, 20, 432) are incompatible\n"
     ]
    }
   ],
   "source": [
    "# Train the model\n",
    "model.fit([padded_input_sequences, padded_output_sequences], padded_output_sequences, epochs=100,validation_data=([x_test, y_test], y_test))"
   ]
  },
  {
   "cell_type": "code",
   "execution_count": 30,
   "id": "5612b059",
   "metadata": {},
   "outputs": [],
   "source": [
    "x_test=[\"நான் மிகவும் சந்த ாஷமாக இருக்கிதேன\",\"அது அவசியமில்லை\",\" யவுசசய்து அல மீண்டும் சசய்யவும\",\"அது ஒரு நல்ை தயாசலை\",\"அவர்கள் ஒன்ோக தவலை சசய்ய ஒப்புக்சகாண்டைர\"]"
   ]
  },
  {
   "cell_type": "code",
   "execution_count": 31,
   "id": "21f1fd8d",
   "metadata": {},
   "outputs": [],
   "source": [
    "y_test=[\"Im so happy\",\"It wasnt necessary\",\"Please do that again\",\"That is good idea\",\"They agreed to work together\"]"
   ]
  },
  {
   "cell_type": "code",
   "execution_count": 32,
   "id": "ebc5918e",
   "metadata": {},
   "outputs": [],
   "source": [
    "from tensorflow.keras.preprocessing.sequence import pad_sequences\n",
    "\n",
    "# Tokenize test data\n",
    "test_input_sequences = tokenizer_inputs.texts_to_sequences(x_test)\n",
    "test_output_sequences = tokenizer_outputs.texts_to_sequences(y_test)\n",
    "\n",
    "# Pad test sequences\n",
    "max_input_length = 20 # Adjust based on your data\n",
    "max_output_length = 20 # Adjust based on your data\n",
    "\n",
    "padded_test_input_sequences = pad_sequences(test_input_sequences, maxlen=max_input_length, padding='post')\n",
    "padded_test_output_sequences = pad_sequences(test_output_sequences, maxlen=max_output_length, padding='post')"
   ]
  },
  {
   "cell_type": "code",
   "execution_count": null,
   "id": "f4d756b7",
   "metadata": {},
   "outputs": [],
   "source": []
  }
 ],
 "metadata": {
  "kernelspec": {
   "display_name": "Python 3 (ipykernel)",
   "language": "python",
   "name": "python3"
  },
  "language_info": {
   "codemirror_mode": {
    "name": "ipython",
    "version": 3
   },
   "file_extension": ".py",
   "mimetype": "text/x-python",
   "name": "python",
   "nbconvert_exporter": "python",
   "pygments_lexer": "ipython3",
   "version": "3.7.13"
  }
 },
 "nbformat": 4,
 "nbformat_minor": 5
}
