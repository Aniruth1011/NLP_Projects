{
 "cells": [
  {
   "cell_type": "code",
   "execution_count": 133,
   "metadata": {},
   "outputs": [
    {
     "name": "stderr",
     "output_type": "stream",
     "text": [
      "[nltk_data] Downloading package wordnet to\n",
      "[nltk_data]     C:\\Users\\aniru\\AppData\\Roaming\\nltk_data...\n",
      "[nltk_data]   Package wordnet is already up-to-date!\n",
      "[nltk_data] Downloading package stopwords to\n",
      "[nltk_data]     C:\\Users\\aniru\\AppData\\Roaming\\nltk_data...\n",
      "[nltk_data]   Package stopwords is already up-to-date!\n"
     ]
    }
   ],
   "source": [
    "import numpy as np \n",
    "import pandas as pd \n",
    "import nltk \n",
    "from nltk.corpus import stopwords\n",
    "nltk.download('wordnet')\n",
    "nltk.download('stopwords')\n",
    "from nltk.stem import WordNetLemmatizer\n",
    "from sklearn.model_selection import train_test_split\n",
    "from sklearn.feature_extraction.text import CountVectorizer, TfidfVectorizer\n",
    "from gensim.models import Word2Vec\n",
    "from sklearn.cluster import KMeans\n",
    "from tqdm import tqdm \n",
    "from sklearn.metrics.pairwise import cosine_similarity \n",
    "stopwords = stopwords.words('english')\n",
    "lemmatizer = WordNetLemmatizer()"
   ]
  },
  {
   "cell_type": "code",
   "execution_count": 134,
   "metadata": {},
   "outputs": [],
   "source": [
    "with open(r'input.txt') as fp:\n",
    "    data = fp.read()"
   ]
  },
  {
   "cell_type": "code",
   "execution_count": 135,
   "metadata": {},
   "outputs": [],
   "source": [
    "sentences = nltk.sent_tokenize(data)"
   ]
  },
  {
   "cell_type": "code",
   "execution_count": 136,
   "metadata": {},
   "outputs": [
    {
     "data": {
      "text/plain": [
       "[\"Millions go missing at China bank\\nTwo senior officials at one of China's top commercial banks have reportedly disappeared after funds\\nworth up to $120m (£64m) went missing.\",\n",
       " 'The pair both worked at Bank of China in the northern city of Harbin, the South China Morning Post\\nreported.',\n",
       " \"The latest scandal at Bank of China will do nothing to reassure foreign investors that China's\\nbig four banks are ready for international listings.\",\n",
       " 'Government policy sees the bank listings as vital\\neconomic reforms.',\n",
       " 'Bank of China is one of two frontrunners in the race to list overseas.',\n",
       " 'The other is\\nChina Construction Bank.',\n",
       " 'Both are expected to list abroad during 2005.',\n",
       " 'They shared a $45bn state bailout in 2003, to help clean up their balance sheets in preparation for a\\nforeign stock market debut.',\n",
       " 'However, a report in the China-published Economic Observer said on Monday that the two banks may\\nhave scrapped plans to list in New York because of the cost of meeting regulatory requirements\\nimposed since the Enron scandal.',\n",
       " \"Bank of China is the country's biggest foreign exchange dealer, while\\nChina Construction Bank is the largest deposit holder.\",\n",
       " \"China's banking sector is burdened with at least\\n$190bn of bad debt according to official data, though most observers believe the true figure is far\\nhigher.\",\n",
       " 'Officially, one in five loans is not being repaid.',\n",
       " 'Attempts to strengthen internal controls and\\ntighten lending policies have uncovered a succession of scandals involving embezzlement by bank\\nofficials and loans-for-favours.',\n",
       " 'The most high-profile case involved the ex-president of Bank of China,\\nWang Xuebing, jailed for 12 years in 2003.',\n",
       " 'Although, he committed the offences whilst running Bank\\nof China in New York, Mr.Wang was head of China Construction Bank when the scandal broke.',\n",
       " 'Earlier\\nthis month, a China Construction Bank branch manager was jailed for life in a separate case.',\n",
       " \"China's banks used to act as cash offices for state enterprises and did not require checks on credit\\nworthiness.\",\n",
       " 'The introduction of market reforms has been accompanied by attempts to modernize the\\nbanking sector, but links between banks and local government remain strong.',\n",
       " \"Last year, China's\\npremier, Wen Jiabao, targeted bank lending practices in a series of speeches, and regulators ordered\\nall big loans to be scrutinized, in an attempt to cool down irresponsible lending.\",\n",
       " \"China's leaders see\\nreforming the top four banks as vital to distribute capital to profitable companies and protect the health\\nof China's economic boom.\",\n",
       " 'But two problems persist.',\n",
       " 'First, inefficient state enterprises continue to\\nreceive protection from bankruptcy because they employ large numbers of people.',\n",
       " 'Second, many\\nquestionable loans come not from the big four, but from smaller banks.',\n",
       " 'Another high-profile financial\\nfirm, China Life, is facing shareholder lawsuits and a probe by the US Securities and Exchange\\nCommission following its 2004 New York listing over its failure to disclose accounting irregularities\\nat its parent company.']"
      ]
     },
     "execution_count": 136,
     "metadata": {},
     "output_type": "execute_result"
    }
   ],
   "source": [
    "sentences"
   ]
  },
  {
   "cell_type": "code",
   "execution_count": 137,
   "metadata": {},
   "outputs": [],
   "source": [
    "def process_data(sentence):\n",
    "\n",
    "    sentence = sentence.strip()\n",
    "    lower = sentence.lower()\n",
    "    words = nltk.word_tokenize(lower)\n",
    "\n",
    "    words = [word for word in words if word not in stopwords]\n",
    "    lemm_words = [lemmatizer.lemmatize(word) for word in words]\n",
    "\n",
    "    return \" \".join(lemm_words)"
   ]
  },
  {
   "cell_type": "code",
   "execution_count": 138,
   "metadata": {},
   "outputs": [],
   "source": [
    "processed_sentences = []\n",
    "for sentence in sentences:\n",
    "    processed_sentences.append(process_data(sentence))"
   ]
  },
  {
   "cell_type": "code",
   "execution_count": 139,
   "metadata": {},
   "outputs": [
    {
     "data": {
      "text/plain": [
       "[\"million go missing china bank two senior official one china 's top commercial bank reportedly disappeared fund worth $ 120m ( £64m ) went missing .\",\n",
       " 'pair worked bank china northern city harbin , south china morning post reported .',\n",
       " \"latest scandal bank china nothing reassure foreign investor china's big four bank ready international listing .\",\n",
       " 'government policy see bank listing vital economic reform .',\n",
       " 'bank china one two frontrunners race list overseas .',\n",
       " 'china construction bank .',\n",
       " 'expected list abroad 2005 .',\n",
       " 'shared $ 45bn state bailout 2003 , help clean balance sheet preparation foreign stock market debut .',\n",
       " 'however , report china-published economic observer said monday two bank may scrapped plan list new york cost meeting regulatory requirement imposed since enron scandal .',\n",
       " \"bank china country 's biggest foreign exchange dealer , china construction bank largest deposit holder .\",\n",
       " \"china 's banking sector burdened least $ 190bn bad debt according official data , though observer believe true figure far higher .\",\n",
       " 'officially , one five loan repaid .',\n",
       " 'attempt strengthen internal control tighten lending policy uncovered succession scandal involving embezzlement bank official loans-for-favours .',\n",
       " 'high-profile case involved ex-president bank china , wang xuebing , jailed 12 year 2003 .',\n",
       " 'although , committed offence whilst running bank china new york , mr.wang head china construction bank scandal broke .',\n",
       " 'earlier month , china construction bank branch manager jailed life separate case .',\n",
       " \"china 's bank used act cash office state enterprise require check credit worthiness .\",\n",
       " 'introduction market reform accompanied attempt modernize banking sector , link bank local government remain strong .',\n",
       " \"last year , china's premier , wen jiabao , targeted bank lending practice series speech , regulator ordered big loan scrutinized , attempt cool irresponsible lending .\",\n",
       " \"china 's leader see reforming top four bank vital distribute capital profitable company protect health china 's economic boom .\",\n",
       " 'two problem persist .',\n",
       " 'first , inefficient state enterprise continue receive protection bankruptcy employ large number people .',\n",
       " 'second , many questionable loan come big four , smaller bank .',\n",
       " 'another high-profile financial firm , china life , facing shareholder lawsuit probe u security exchange commission following 2004 new york listing failure disclose accounting irregularity parent company .']"
      ]
     },
     "execution_count": 139,
     "metadata": {},
     "output_type": "execute_result"
    }
   ],
   "source": [
    "processed_sentences"
   ]
  },
  {
   "cell_type": "code",
   "execution_count": 140,
   "metadata": {},
   "outputs": [],
   "source": [
    "cv = CountVectorizer()\n",
    "tfidf = TfidfVectorizer()"
   ]
  },
  {
   "cell_type": "code",
   "execution_count": 141,
   "metadata": {},
   "outputs": [],
   "source": [
    "x_cf_train = cv.fit_transform(processed_sentences)\n",
    "x_tf_train = tfidf.fit_transform(processed_sentences)"
   ]
  },
  {
   "cell_type": "code",
   "execution_count": 142,
   "metadata": {},
   "outputs": [],
   "source": [
    "word2vec_model = Word2Vec(sentences=processed_sentences, vector_size=100, window=5, min_count=1, workers=4)\n",
    "cbow = Word2Vec(sentences=processed_sentences, vector_size=100, window=5, min_count=1, workers=4 , sg = 0)\n",
    "skipgram = Word2Vec(sentences=processed_sentences, vector_size=100, window=5, min_count=1, workers=4 , sg = 1)"
   ]
  },
  {
   "cell_type": "code",
   "execution_count": 143,
   "metadata": {},
   "outputs": [],
   "source": [
    "def calculate_mean_embedding(tokens , model):\n",
    "    embeddings = [model.wv[token] for token in tokens if token in model.wv]\n",
    "    if embeddings:\n",
    "        return np.mean(embeddings, axis=0).astype(np.float32)\n",
    "    else:\n",
    "        return np.zeros(model.vector_size).astype(np.float32)"
   ]
  },
  {
   "cell_type": "code",
   "execution_count": 144,
   "metadata": {},
   "outputs": [],
   "source": [
    "tqdm.pandas(desc=\"Calculating embeddings\")\n",
    "x_w2v_train = [calculate_mean_embedding(sentence , word2vec_model) for sentence in processed_sentences]"
   ]
  },
  {
   "cell_type": "code",
   "execution_count": 145,
   "metadata": {},
   "outputs": [],
   "source": [
    "tqdm.pandas(desc=\"Calculating embeddings\")\n",
    "x_cbow_train = [calculate_mean_embedding(sentence , cbow) for sentence in processed_sentences]"
   ]
  },
  {
   "cell_type": "code",
   "execution_count": 146,
   "metadata": {},
   "outputs": [],
   "source": [
    "tqdm.pandas(desc=\"Calculating embeddings\")\n",
    "x_sg_train = [calculate_mean_embedding(sentence , skipgram) for sentence in processed_sentences]"
   ]
  },
  {
   "cell_type": "code",
   "execution_count": 147,
   "metadata": {},
   "outputs": [],
   "source": [
    "model_cv = KMeans()\n",
    "model_tf = KMeans()\n",
    "model_w2v = KMeans()\n",
    "model_cbow = KMeans()\n",
    "model_sg = KMeans()"
   ]
  },
  {
   "cell_type": "code",
   "execution_count": 148,
   "metadata": {},
   "outputs": [],
   "source": [
    "x_w2v_train = [np.array(i) for i in x_w2v_train]\n",
    "x_cbow_train = [np.array(i) for i in x_cbow_train]\n",
    "x_sg_train = [np.array(i) for i in x_sg_train]"
   ]
  },
  {
   "cell_type": "code",
   "execution_count": 149,
   "metadata": {},
   "outputs": [
    {
     "name": "stderr",
     "output_type": "stream",
     "text": [
      "d:\\anaconda3\\Lib\\site-packages\\sklearn\\cluster\\_kmeans.py:1446: UserWarning: KMeans is known to have a memory leak on Windows with MKL, when there are less chunks than available threads. You can avoid it by setting the environment variable OMP_NUM_THREADS=1.\n",
      "  warnings.warn(\n",
      "d:\\anaconda3\\Lib\\site-packages\\sklearn\\cluster\\_kmeans.py:1446: UserWarning: KMeans is known to have a memory leak on Windows with MKL, when there are less chunks than available threads. You can avoid it by setting the environment variable OMP_NUM_THREADS=1.\n",
      "  warnings.warn(\n",
      "d:\\anaconda3\\Lib\\site-packages\\sklearn\\cluster\\_kmeans.py:1446: UserWarning: KMeans is known to have a memory leak on Windows with MKL, when there are less chunks than available threads. You can avoid it by setting the environment variable OMP_NUM_THREADS=1.\n",
      "  warnings.warn(\n",
      "d:\\anaconda3\\Lib\\site-packages\\sklearn\\cluster\\_kmeans.py:1446: UserWarning: KMeans is known to have a memory leak on Windows with MKL, when there are less chunks than available threads. You can avoid it by setting the environment variable OMP_NUM_THREADS=1.\n",
      "  warnings.warn(\n",
      "d:\\anaconda3\\Lib\\site-packages\\sklearn\\cluster\\_kmeans.py:1446: UserWarning: KMeans is known to have a memory leak on Windows with MKL, when there are less chunks than available threads. You can avoid it by setting the environment variable OMP_NUM_THREADS=1.\n",
      "  warnings.warn(\n"
     ]
    },
    {
     "data": {
      "text/html": [
       "<style>#sk-container-id-5 {\n",
       "  /* Definition of color scheme common for light and dark mode */\n",
       "  --sklearn-color-text: black;\n",
       "  --sklearn-color-line: gray;\n",
       "  /* Definition of color scheme for unfitted estimators */\n",
       "  --sklearn-color-unfitted-level-0: #fff5e6;\n",
       "  --sklearn-color-unfitted-level-1: #f6e4d2;\n",
       "  --sklearn-color-unfitted-level-2: #ffe0b3;\n",
       "  --sklearn-color-unfitted-level-3: chocolate;\n",
       "  /* Definition of color scheme for fitted estimators */\n",
       "  --sklearn-color-fitted-level-0: #f0f8ff;\n",
       "  --sklearn-color-fitted-level-1: #d4ebff;\n",
       "  --sklearn-color-fitted-level-2: #b3dbfd;\n",
       "  --sklearn-color-fitted-level-3: cornflowerblue;\n",
       "\n",
       "  /* Specific color for light theme */\n",
       "  --sklearn-color-text-on-default-background: var(--sg-text-color, var(--theme-code-foreground, var(--jp-content-font-color1, black)));\n",
       "  --sklearn-color-background: var(--sg-background-color, var(--theme-background, var(--jp-layout-color0, white)));\n",
       "  --sklearn-color-border-box: var(--sg-text-color, var(--theme-code-foreground, var(--jp-content-font-color1, black)));\n",
       "  --sklearn-color-icon: #696969;\n",
       "\n",
       "  @media (prefers-color-scheme: dark) {\n",
       "    /* Redefinition of color scheme for dark theme */\n",
       "    --sklearn-color-text-on-default-background: var(--sg-text-color, var(--theme-code-foreground, var(--jp-content-font-color1, white)));\n",
       "    --sklearn-color-background: var(--sg-background-color, var(--theme-background, var(--jp-layout-color0, #111)));\n",
       "    --sklearn-color-border-box: var(--sg-text-color, var(--theme-code-foreground, var(--jp-content-font-color1, white)));\n",
       "    --sklearn-color-icon: #878787;\n",
       "  }\n",
       "}\n",
       "\n",
       "#sk-container-id-5 {\n",
       "  color: var(--sklearn-color-text);\n",
       "}\n",
       "\n",
       "#sk-container-id-5 pre {\n",
       "  padding: 0;\n",
       "}\n",
       "\n",
       "#sk-container-id-5 input.sk-hidden--visually {\n",
       "  border: 0;\n",
       "  clip: rect(1px 1px 1px 1px);\n",
       "  clip: rect(1px, 1px, 1px, 1px);\n",
       "  height: 1px;\n",
       "  margin: -1px;\n",
       "  overflow: hidden;\n",
       "  padding: 0;\n",
       "  position: absolute;\n",
       "  width: 1px;\n",
       "}\n",
       "\n",
       "#sk-container-id-5 div.sk-dashed-wrapped {\n",
       "  border: 1px dashed var(--sklearn-color-line);\n",
       "  margin: 0 0.4em 0.5em 0.4em;\n",
       "  box-sizing: border-box;\n",
       "  padding-bottom: 0.4em;\n",
       "  background-color: var(--sklearn-color-background);\n",
       "}\n",
       "\n",
       "#sk-container-id-5 div.sk-container {\n",
       "  /* jupyter's `normalize.less` sets `[hidden] { display: none; }`\n",
       "     but bootstrap.min.css set `[hidden] { display: none !important; }`\n",
       "     so we also need the `!important` here to be able to override the\n",
       "     default hidden behavior on the sphinx rendered scikit-learn.org.\n",
       "     See: https://github.com/scikit-learn/scikit-learn/issues/21755 */\n",
       "  display: inline-block !important;\n",
       "  position: relative;\n",
       "}\n",
       "\n",
       "#sk-container-id-5 div.sk-text-repr-fallback {\n",
       "  display: none;\n",
       "}\n",
       "\n",
       "div.sk-parallel-item,\n",
       "div.sk-serial,\n",
       "div.sk-item {\n",
       "  /* draw centered vertical line to link estimators */\n",
       "  background-image: linear-gradient(var(--sklearn-color-text-on-default-background), var(--sklearn-color-text-on-default-background));\n",
       "  background-size: 2px 100%;\n",
       "  background-repeat: no-repeat;\n",
       "  background-position: center center;\n",
       "}\n",
       "\n",
       "/* Parallel-specific style estimator block */\n",
       "\n",
       "#sk-container-id-5 div.sk-parallel-item::after {\n",
       "  content: \"\";\n",
       "  width: 100%;\n",
       "  border-bottom: 2px solid var(--sklearn-color-text-on-default-background);\n",
       "  flex-grow: 1;\n",
       "}\n",
       "\n",
       "#sk-container-id-5 div.sk-parallel {\n",
       "  display: flex;\n",
       "  align-items: stretch;\n",
       "  justify-content: center;\n",
       "  background-color: var(--sklearn-color-background);\n",
       "  position: relative;\n",
       "}\n",
       "\n",
       "#sk-container-id-5 div.sk-parallel-item {\n",
       "  display: flex;\n",
       "  flex-direction: column;\n",
       "}\n",
       "\n",
       "#sk-container-id-5 div.sk-parallel-item:first-child::after {\n",
       "  align-self: flex-end;\n",
       "  width: 50%;\n",
       "}\n",
       "\n",
       "#sk-container-id-5 div.sk-parallel-item:last-child::after {\n",
       "  align-self: flex-start;\n",
       "  width: 50%;\n",
       "}\n",
       "\n",
       "#sk-container-id-5 div.sk-parallel-item:only-child::after {\n",
       "  width: 0;\n",
       "}\n",
       "\n",
       "/* Serial-specific style estimator block */\n",
       "\n",
       "#sk-container-id-5 div.sk-serial {\n",
       "  display: flex;\n",
       "  flex-direction: column;\n",
       "  align-items: center;\n",
       "  background-color: var(--sklearn-color-background);\n",
       "  padding-right: 1em;\n",
       "  padding-left: 1em;\n",
       "}\n",
       "\n",
       "\n",
       "/* Toggleable style: style used for estimator/Pipeline/ColumnTransformer box that is\n",
       "clickable and can be expanded/collapsed.\n",
       "- Pipeline and ColumnTransformer use this feature and define the default style\n",
       "- Estimators will overwrite some part of the style using the `sk-estimator` class\n",
       "*/\n",
       "\n",
       "/* Pipeline and ColumnTransformer style (default) */\n",
       "\n",
       "#sk-container-id-5 div.sk-toggleable {\n",
       "  /* Default theme specific background. It is overwritten whether we have a\n",
       "  specific estimator or a Pipeline/ColumnTransformer */\n",
       "  background-color: var(--sklearn-color-background);\n",
       "}\n",
       "\n",
       "/* Toggleable label */\n",
       "#sk-container-id-5 label.sk-toggleable__label {\n",
       "  cursor: pointer;\n",
       "  display: block;\n",
       "  width: 100%;\n",
       "  margin-bottom: 0;\n",
       "  padding: 0.5em;\n",
       "  box-sizing: border-box;\n",
       "  text-align: center;\n",
       "}\n",
       "\n",
       "#sk-container-id-5 label.sk-toggleable__label-arrow:before {\n",
       "  /* Arrow on the left of the label */\n",
       "  content: \"▸\";\n",
       "  float: left;\n",
       "  margin-right: 0.25em;\n",
       "  color: var(--sklearn-color-icon);\n",
       "}\n",
       "\n",
       "#sk-container-id-5 label.sk-toggleable__label-arrow:hover:before {\n",
       "  color: var(--sklearn-color-text);\n",
       "}\n",
       "\n",
       "/* Toggleable content - dropdown */\n",
       "\n",
       "#sk-container-id-5 div.sk-toggleable__content {\n",
       "  max-height: 0;\n",
       "  max-width: 0;\n",
       "  overflow: hidden;\n",
       "  text-align: left;\n",
       "  /* unfitted */\n",
       "  background-color: var(--sklearn-color-unfitted-level-0);\n",
       "}\n",
       "\n",
       "#sk-container-id-5 div.sk-toggleable__content.fitted {\n",
       "  /* fitted */\n",
       "  background-color: var(--sklearn-color-fitted-level-0);\n",
       "}\n",
       "\n",
       "#sk-container-id-5 div.sk-toggleable__content pre {\n",
       "  margin: 0.2em;\n",
       "  border-radius: 0.25em;\n",
       "  color: var(--sklearn-color-text);\n",
       "  /* unfitted */\n",
       "  background-color: var(--sklearn-color-unfitted-level-0);\n",
       "}\n",
       "\n",
       "#sk-container-id-5 div.sk-toggleable__content.fitted pre {\n",
       "  /* unfitted */\n",
       "  background-color: var(--sklearn-color-fitted-level-0);\n",
       "}\n",
       "\n",
       "#sk-container-id-5 input.sk-toggleable__control:checked~div.sk-toggleable__content {\n",
       "  /* Expand drop-down */\n",
       "  max-height: 200px;\n",
       "  max-width: 100%;\n",
       "  overflow: auto;\n",
       "}\n",
       "\n",
       "#sk-container-id-5 input.sk-toggleable__control:checked~label.sk-toggleable__label-arrow:before {\n",
       "  content: \"▾\";\n",
       "}\n",
       "\n",
       "/* Pipeline/ColumnTransformer-specific style */\n",
       "\n",
       "#sk-container-id-5 div.sk-label input.sk-toggleable__control:checked~label.sk-toggleable__label {\n",
       "  color: var(--sklearn-color-text);\n",
       "  background-color: var(--sklearn-color-unfitted-level-2);\n",
       "}\n",
       "\n",
       "#sk-container-id-5 div.sk-label.fitted input.sk-toggleable__control:checked~label.sk-toggleable__label {\n",
       "  background-color: var(--sklearn-color-fitted-level-2);\n",
       "}\n",
       "\n",
       "/* Estimator-specific style */\n",
       "\n",
       "/* Colorize estimator box */\n",
       "#sk-container-id-5 div.sk-estimator input.sk-toggleable__control:checked~label.sk-toggleable__label {\n",
       "  /* unfitted */\n",
       "  background-color: var(--sklearn-color-unfitted-level-2);\n",
       "}\n",
       "\n",
       "#sk-container-id-5 div.sk-estimator.fitted input.sk-toggleable__control:checked~label.sk-toggleable__label {\n",
       "  /* fitted */\n",
       "  background-color: var(--sklearn-color-fitted-level-2);\n",
       "}\n",
       "\n",
       "#sk-container-id-5 div.sk-label label.sk-toggleable__label,\n",
       "#sk-container-id-5 div.sk-label label {\n",
       "  /* The background is the default theme color */\n",
       "  color: var(--sklearn-color-text-on-default-background);\n",
       "}\n",
       "\n",
       "/* On hover, darken the color of the background */\n",
       "#sk-container-id-5 div.sk-label:hover label.sk-toggleable__label {\n",
       "  color: var(--sklearn-color-text);\n",
       "  background-color: var(--sklearn-color-unfitted-level-2);\n",
       "}\n",
       "\n",
       "/* Label box, darken color on hover, fitted */\n",
       "#sk-container-id-5 div.sk-label.fitted:hover label.sk-toggleable__label.fitted {\n",
       "  color: var(--sklearn-color-text);\n",
       "  background-color: var(--sklearn-color-fitted-level-2);\n",
       "}\n",
       "\n",
       "/* Estimator label */\n",
       "\n",
       "#sk-container-id-5 div.sk-label label {\n",
       "  font-family: monospace;\n",
       "  font-weight: bold;\n",
       "  display: inline-block;\n",
       "  line-height: 1.2em;\n",
       "}\n",
       "\n",
       "#sk-container-id-5 div.sk-label-container {\n",
       "  text-align: center;\n",
       "}\n",
       "\n",
       "/* Estimator-specific */\n",
       "#sk-container-id-5 div.sk-estimator {\n",
       "  font-family: monospace;\n",
       "  border: 1px dotted var(--sklearn-color-border-box);\n",
       "  border-radius: 0.25em;\n",
       "  box-sizing: border-box;\n",
       "  margin-bottom: 0.5em;\n",
       "  /* unfitted */\n",
       "  background-color: var(--sklearn-color-unfitted-level-0);\n",
       "}\n",
       "\n",
       "#sk-container-id-5 div.sk-estimator.fitted {\n",
       "  /* fitted */\n",
       "  background-color: var(--sklearn-color-fitted-level-0);\n",
       "}\n",
       "\n",
       "/* on hover */\n",
       "#sk-container-id-5 div.sk-estimator:hover {\n",
       "  /* unfitted */\n",
       "  background-color: var(--sklearn-color-unfitted-level-2);\n",
       "}\n",
       "\n",
       "#sk-container-id-5 div.sk-estimator.fitted:hover {\n",
       "  /* fitted */\n",
       "  background-color: var(--sklearn-color-fitted-level-2);\n",
       "}\n",
       "\n",
       "/* Specification for estimator info (e.g. \"i\" and \"?\") */\n",
       "\n",
       "/* Common style for \"i\" and \"?\" */\n",
       "\n",
       ".sk-estimator-doc-link,\n",
       "a:link.sk-estimator-doc-link,\n",
       "a:visited.sk-estimator-doc-link {\n",
       "  float: right;\n",
       "  font-size: smaller;\n",
       "  line-height: 1em;\n",
       "  font-family: monospace;\n",
       "  background-color: var(--sklearn-color-background);\n",
       "  border-radius: 1em;\n",
       "  height: 1em;\n",
       "  width: 1em;\n",
       "  text-decoration: none !important;\n",
       "  margin-left: 1ex;\n",
       "  /* unfitted */\n",
       "  border: var(--sklearn-color-unfitted-level-1) 1pt solid;\n",
       "  color: var(--sklearn-color-unfitted-level-1);\n",
       "}\n",
       "\n",
       ".sk-estimator-doc-link.fitted,\n",
       "a:link.sk-estimator-doc-link.fitted,\n",
       "a:visited.sk-estimator-doc-link.fitted {\n",
       "  /* fitted */\n",
       "  border: var(--sklearn-color-fitted-level-1) 1pt solid;\n",
       "  color: var(--sklearn-color-fitted-level-1);\n",
       "}\n",
       "\n",
       "/* On hover */\n",
       "div.sk-estimator:hover .sk-estimator-doc-link:hover,\n",
       ".sk-estimator-doc-link:hover,\n",
       "div.sk-label-container:hover .sk-estimator-doc-link:hover,\n",
       ".sk-estimator-doc-link:hover {\n",
       "  /* unfitted */\n",
       "  background-color: var(--sklearn-color-unfitted-level-3);\n",
       "  color: var(--sklearn-color-background);\n",
       "  text-decoration: none;\n",
       "}\n",
       "\n",
       "div.sk-estimator.fitted:hover .sk-estimator-doc-link.fitted:hover,\n",
       ".sk-estimator-doc-link.fitted:hover,\n",
       "div.sk-label-container:hover .sk-estimator-doc-link.fitted:hover,\n",
       ".sk-estimator-doc-link.fitted:hover {\n",
       "  /* fitted */\n",
       "  background-color: var(--sklearn-color-fitted-level-3);\n",
       "  color: var(--sklearn-color-background);\n",
       "  text-decoration: none;\n",
       "}\n",
       "\n",
       "/* Span, style for the box shown on hovering the info icon */\n",
       ".sk-estimator-doc-link span {\n",
       "  display: none;\n",
       "  z-index: 9999;\n",
       "  position: relative;\n",
       "  font-weight: normal;\n",
       "  right: .2ex;\n",
       "  padding: .5ex;\n",
       "  margin: .5ex;\n",
       "  width: min-content;\n",
       "  min-width: 20ex;\n",
       "  max-width: 50ex;\n",
       "  color: var(--sklearn-color-text);\n",
       "  box-shadow: 2pt 2pt 4pt #999;\n",
       "  /* unfitted */\n",
       "  background: var(--sklearn-color-unfitted-level-0);\n",
       "  border: .5pt solid var(--sklearn-color-unfitted-level-3);\n",
       "}\n",
       "\n",
       ".sk-estimator-doc-link.fitted span {\n",
       "  /* fitted */\n",
       "  background: var(--sklearn-color-fitted-level-0);\n",
       "  border: var(--sklearn-color-fitted-level-3);\n",
       "}\n",
       "\n",
       ".sk-estimator-doc-link:hover span {\n",
       "  display: block;\n",
       "}\n",
       "\n",
       "/* \"?\"-specific style due to the `<a>` HTML tag */\n",
       "\n",
       "#sk-container-id-5 a.estimator_doc_link {\n",
       "  float: right;\n",
       "  font-size: 1rem;\n",
       "  line-height: 1em;\n",
       "  font-family: monospace;\n",
       "  background-color: var(--sklearn-color-background);\n",
       "  border-radius: 1rem;\n",
       "  height: 1rem;\n",
       "  width: 1rem;\n",
       "  text-decoration: none;\n",
       "  /* unfitted */\n",
       "  color: var(--sklearn-color-unfitted-level-1);\n",
       "  border: var(--sklearn-color-unfitted-level-1) 1pt solid;\n",
       "}\n",
       "\n",
       "#sk-container-id-5 a.estimator_doc_link.fitted {\n",
       "  /* fitted */\n",
       "  border: var(--sklearn-color-fitted-level-1) 1pt solid;\n",
       "  color: var(--sklearn-color-fitted-level-1);\n",
       "}\n",
       "\n",
       "/* On hover */\n",
       "#sk-container-id-5 a.estimator_doc_link:hover {\n",
       "  /* unfitted */\n",
       "  background-color: var(--sklearn-color-unfitted-level-3);\n",
       "  color: var(--sklearn-color-background);\n",
       "  text-decoration: none;\n",
       "}\n",
       "\n",
       "#sk-container-id-5 a.estimator_doc_link.fitted:hover {\n",
       "  /* fitted */\n",
       "  background-color: var(--sklearn-color-fitted-level-3);\n",
       "}\n",
       "</style><div id=\"sk-container-id-5\" class=\"sk-top-container\"><div class=\"sk-text-repr-fallback\"><pre>KMeans()</pre><b>In a Jupyter environment, please rerun this cell to show the HTML representation or trust the notebook. <br />On GitHub, the HTML representation is unable to render, please try loading this page with nbviewer.org.</b></div><div class=\"sk-container\" hidden><div class=\"sk-item\"><div class=\"sk-estimator fitted sk-toggleable\"><input class=\"sk-toggleable__control sk-hidden--visually\" id=\"sk-estimator-id-5\" type=\"checkbox\" checked><label for=\"sk-estimator-id-5\" class=\"sk-toggleable__label fitted sk-toggleable__label-arrow fitted\">&nbsp;&nbsp;KMeans<a class=\"sk-estimator-doc-link fitted\" rel=\"noreferrer\" target=\"_blank\" href=\"https://scikit-learn.org/1.4/modules/generated/sklearn.cluster.KMeans.html\">?<span>Documentation for KMeans</span></a><span class=\"sk-estimator-doc-link fitted\">i<span>Fitted</span></span></label><div class=\"sk-toggleable__content fitted\"><pre>KMeans()</pre></div> </div></div></div></div>"
      ],
      "text/plain": [
       "KMeans()"
      ]
     },
     "execution_count": 149,
     "metadata": {},
     "output_type": "execute_result"
    }
   ],
   "source": [
    "model_cv.fit(x_cf_train.toarray())\n",
    "model_tf.fit(x_tf_train.toarray())\n",
    "model_w2v.fit(x_w2v_train)\n",
    "model_cbow.fit(x_cbow_train)\n",
    "model_sg.fit(x_sg_train)"
   ]
  },
  {
   "cell_type": "code",
   "execution_count": 150,
   "metadata": {},
   "outputs": [],
   "source": [
    "def find_closest(center , points , seen):\n",
    "    min_dist = float('inf')\n",
    "    ind = -1\n",
    "    for i in range(len(points)):\n",
    "\n",
    "        cs_dst = cosine_similarity(center.reshape(1 , -1) , points[i].reshape(1 , -1))\n",
    "\n",
    "        if cs_dst <= min_dist:\n",
    "            min_dist = cs_dst \n",
    "            if i not in seen:\n",
    "                ind = i \n",
    "    \n",
    "    return ind"
   ]
  },
  {
   "cell_type": "code",
   "execution_count": 151,
   "metadata": {},
   "outputs": [],
   "source": [
    "summary_cv = \"\"\n",
    "seen = []\n",
    "for center in model_cv.cluster_centers_:\n",
    "    sentence_index = find_closest(center , x_cf_train.toarray() , seen)\n",
    "    seen.append(sentence_index)\n",
    "    summary_cv+=sentences[sentence_index]"
   ]
  },
  {
   "cell_type": "code",
   "execution_count": 152,
   "metadata": {},
   "outputs": [],
   "source": [
    "summary_tfidf = \"\"\n",
    "seen = []\n",
    "for center in model_tf.cluster_centers_:\n",
    "    sentence_index = find_closest(center , x_tf_train.toarray() , seen)\n",
    "    seen.append(sentence_index)\n",
    "    summary_tfidf+=sentences[sentence_index]"
   ]
  },
  {
   "cell_type": "code",
   "execution_count": 153,
   "metadata": {},
   "outputs": [],
   "source": [
    "summary_w2v = \"\"\n",
    "seen = []\n",
    "for center in model_w2v.cluster_centers_:\n",
    "    sentence_index = find_closest(center , x_w2v_train , seen)\n",
    "    seen.append(sentence_index)\n",
    "    summary_w2v+=sentences[sentence_index]"
   ]
  },
  {
   "cell_type": "code",
   "execution_count": 154,
   "metadata": {},
   "outputs": [],
   "source": [
    "summary_cbow = \"\"\n",
    "seen = []\n",
    "for center in model_cbow.cluster_centers_:\n",
    "    sentence_index = find_closest(center , x_cbow_train , seen)\n",
    "    seen.append(sentence_index)\n",
    "    summary_cbow+=sentences[sentence_index]"
   ]
  },
  {
   "cell_type": "code",
   "execution_count": 155,
   "metadata": {},
   "outputs": [],
   "source": [
    "summary_sg = \"\"\n",
    "seen = []\n",
    "for center in model_sg.cluster_centers_:\n",
    "    sentence_index = find_closest(center , x_sg_train  , seen)\n",
    "    seen.append(sentence_index)\n",
    "    summary_sg+=sentences[sentence_index]"
   ]
  },
  {
   "cell_type": "code",
   "execution_count": 156,
   "metadata": {},
   "outputs": [],
   "source": [
    "import textwrap"
   ]
  },
  {
   "cell_type": "code",
   "execution_count": 157,
   "metadata": {},
   "outputs": [
    {
     "name": "stdout",
     "output_type": "stream",
     "text": [
      "Another high-profile financial firm, China Life, is facing shareholder lawsuits and a probe by the\n",
      "US Securities and Exchange Commission following its 2004 New York listing over its failure to\n",
      "disclose accounting irregularities at its parent company.First, inefficient state enterprises\n",
      "continue to receive protection from bankruptcy because they employ large numbers of people.Second,\n",
      "many questionable loans come not from the big four, but from smaller banks.But two problems\n",
      "persist.They shared a $45bn state bailout in 2003, to help clean up their balance sheets in\n",
      "preparation for a foreign stock market debut.Officially, one in five loans is not being repaid.Both\n",
      "are expected to list abroad during 2005.China's leaders see reforming the top four banks as vital to\n",
      "distribute capital to profitable companies and protect the health of China's economic boom.\n"
     ]
    }
   ],
   "source": [
    "print(textwrap.fill(summary_cv , 100))"
   ]
  },
  {
   "cell_type": "code",
   "execution_count": 158,
   "metadata": {},
   "outputs": [
    {
     "name": "stdout",
     "output_type": "stream",
     "text": [
      "Second, many questionable loans come not from the big four, but from smaller banks.First,\n",
      "inefficient state enterprises continue to receive protection from bankruptcy because they employ\n",
      "large numbers of people.But two problems persist.Officially, one in five loans is not being\n",
      "repaid.Both are expected to list abroad during 2005.They shared a $45bn state bailout in 2003, to\n",
      "help clean up their balance sheets in preparation for a foreign stock market debut.The pair both\n",
      "worked at Bank of China in the northern city of Harbin, the South China Morning Post\n",
      "reported.Millions go missing at China bank Two senior officials at one of China's top commercial\n",
      "banks have reportedly disappeared after funds worth up to $120m (£64m) went missing.\n"
     ]
    }
   ],
   "source": [
    "print(textwrap.fill(summary_tfidf , 100))"
   ]
  },
  {
   "cell_type": "code",
   "execution_count": 159,
   "metadata": {},
   "outputs": [
    {
     "name": "stdout",
     "output_type": "stream",
     "text": [
      "But two problems persist.The other is China Construction Bank.Both are expected to list abroad\n",
      "during 2005.The pair both worked at Bank of China in the northern city of Harbin, the South China\n",
      "Morning Post reported.The latest scandal at Bank of China will do nothing to reassure foreign\n",
      "investors that China's big four banks are ready for international listings.Bank of China is one of\n",
      "two frontrunners in the race to list overseas.Millions go missing at China bank Two senior officials\n",
      "at one of China's top commercial banks have reportedly disappeared after funds worth up to $120m\n",
      "(£64m) went missing.Government policy sees the bank listings as vital economic reforms.\n"
     ]
    }
   ],
   "source": [
    "print(textwrap.fill(summary_w2v , 100))"
   ]
  },
  {
   "cell_type": "code",
   "execution_count": 160,
   "metadata": {},
   "outputs": [
    {
     "name": "stdout",
     "output_type": "stream",
     "text": [
      "The other is China Construction Bank.The latest scandal at Bank of China will do nothing to reassure\n",
      "foreign investors that China's big four banks are ready for international listings.Bank of China is\n",
      "one of two frontrunners in the race to list overseas.The pair both worked at Bank of China in the\n",
      "northern city of Harbin, the South China Morning Post reported.Millions go missing at China bank Two\n",
      "senior officials at one of China's top commercial banks have reportedly disappeared after funds\n",
      "worth up to $120m (£64m) went missing.But two problems persist.Both are expected to list abroad\n",
      "during 2005.Government policy sees the bank listings as vital economic reforms.\n"
     ]
    }
   ],
   "source": [
    "print(textwrap.fill(summary_cbow , 100))"
   ]
  },
  {
   "cell_type": "code",
   "execution_count": 161,
   "metadata": {},
   "outputs": [
    {
     "name": "stdout",
     "output_type": "stream",
     "text": [
      "But two problems persist.The other is China Construction Bank.Government policy sees the bank\n",
      "listings as vital economic reforms.The pair both worked at Bank of China in the northern city of\n",
      "Harbin, the South China Morning Post reported.Millions go missing at China bank Two senior officials\n",
      "at one of China's top commercial banks have reportedly disappeared after funds worth up to $120m\n",
      "(£64m) went missing.The latest scandal at Bank of China will do nothing to reassure foreign\n",
      "investors that China's big four banks are ready for international listings.Both are expected to list\n",
      "abroad during 2005.Another high-profile financial firm, China Life, is facing shareholder lawsuits\n",
      "and a probe by the US Securities and Exchange Commission following its 2004 New York listing over\n",
      "its failure to disclose accounting irregularities at its parent company.\n"
     ]
    }
   ],
   "source": [
    "print(textwrap.fill(summary_sg , 100))"
   ]
  }
 ],
 "metadata": {
  "kernelspec": {
   "display_name": "Python 3",
   "language": "python",
   "name": "python3"
  },
  "language_info": {
   "codemirror_mode": {
    "name": "ipython",
    "version": 3
   },
   "file_extension": ".py",
   "mimetype": "text/x-python",
   "name": "python",
   "nbconvert_exporter": "python",
   "pygments_lexer": "ipython3",
   "version": "3.11.5"
  }
 },
 "nbformat": 4,
 "nbformat_minor": 2
}
