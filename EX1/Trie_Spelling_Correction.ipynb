{
 "cells": [
  {
   "cell_type": "code",
   "execution_count": 90,
   "metadata": {},
   "outputs": [],
   "source": [
    "import collections \n",
    "import numpy as np  "
   ]
  },
  {
   "cell_type": "code",
   "execution_count": 91,
   "metadata": {},
   "outputs": [],
   "source": [
    "class TrieNode():\n",
    "\n",
    "    def __init__(self):\n",
    "        self.children = collections.defaultdict(TrieNode)\n",
    "        self.isendofword = False "
   ]
  },
  {
   "cell_type": "code",
   "execution_count": 92,
   "metadata": {},
   "outputs": [],
   "source": [
    "def build_trie(words):\n",
    "    root = TrieNode()\n",
    "\n",
    "    for word in words:\n",
    "        node = root \n",
    "        for char in word:\n",
    "            node = node.children[char]\n",
    "        node.isendofword = True \n",
    "    \n",
    "    return root "
   ]
  },
  {
   "cell_type": "code",
   "execution_count": 93,
   "metadata": {},
   "outputs": [],
   "source": [
    "def edit_dist(w1 , w2):\n",
    "\n",
    "    l1 , l2  = len(w1) , len(w2) \n",
    "\n",
    "    matrix = np.zeros((l1+1 , l2+1))\n",
    "\n",
    "    for i in range(l1+1):\n",
    "        matrix[i][0] = i \n",
    "    \n",
    "    for j in range(l2+1):\n",
    "        matrix[0][j] = j \n",
    "    \n",
    "    for i in range(1, l1+1):\n",
    "        for j in range(1, l2+1):\n",
    "            if w1[i-1] == w2[j-1]:\n",
    "                matrix[i][j] = matrix[i-1][j-1]\n",
    "            else:\n",
    "                matrix[i][j] = min(matrix[i-1][j], matrix[i][j-1], matrix[i-1][j-1]) + 1\n",
    "    \n",
    "\n",
    "    return matrix[l1][l2]"
   ]
  },
  {
   "cell_type": "code",
   "execution_count": 94,
   "metadata": {},
   "outputs": [],
   "source": [
    "def correct_spelling(sentence , trie):\n",
    "\n",
    "    words = sentence.split()\n",
    "    corrected_sentence = []\n",
    "    for word in words:\n",
    "\n",
    "        suggestions = []\n",
    "        stack = [(trie, \"\" , word)]\n",
    "\n",
    "        while stack:\n",
    "\n",
    "            node , prefix , remaining = stack.pop()\n",
    "\n",
    "            if node.isendofword:\n",
    "                suggestions.append(prefix)\n",
    "            else:\n",
    "\n",
    "                if remaining == '':\n",
    "                    continue \n",
    "                char , remaining = remaining[0] , remaining[1:]\n",
    "\n",
    "                if char in node.children:\n",
    "\n",
    "                    stack.append((node.children[char] , prefix + char , remaining))\n",
    "                \n",
    "                stack.append((node.children[''], prefix + char, remaining))\n",
    "\n",
    "        \n",
    "        min_dist = float('inf')\n",
    "        best_sug = word \n",
    "\n",
    "        for suggestion in suggestions:\n",
    "            dist = edit_dist(suggestion,  word)\n",
    "\n",
    "            if dist<min_dist:\n",
    "                min_dist = dist \n",
    "                best_sug = suggestion \n",
    "            \n",
    "        corrected_sentence.append(best_sug)\n",
    "    \n",
    "    return \" \".join(corrected_sentence)"
   ]
  },
  {
   "cell_type": "code",
   "execution_count": 95,
   "metadata": {},
   "outputs": [],
   "source": [
    "sentences = [\n",
    "    \"Mr Patrick is our new principle.\",\n",
    "    \"The company excepted all the terms.\",\n",
    "    \"Please don’t keep your dog on the lose.\",\n",
    "    \"The later is my best friend.\",\n",
    "    \"I need some stationary products for my craftwork.\",\n",
    "    \"The actor excepted the Oscar.\",\n",
    "    \"I will call you later in the evening.\",\n",
    "    \"Covid affects the lungs.\",\n",
    "    \"The council of the ministers were sworn in yesterday.\",\n",
    "    \"Robert too wants to accompany us to the park.\",\n",
    "    \"Mia will counsel me about choosing fashion as my career.\",\n",
    "    \"The bear at the zoo was very playful.\",\n",
    "    \"The sheep have a lot of fur that keeps them warm.\",\n",
    "    \"The hot spring is at the furthest corner of the street.\",\n",
    "    \"Can you advise me on how to study for exams?\",\n",
    "    \"The team will loose the match if they don’t play well.\",\n",
    "    \"Can you go to the market for me?\",\n",
    "    \"The teachers asked the students to keep quiet.\",\n",
    "    \"The heap of garbage should be cleaned immediately.\",\n",
    "    \"This is their house.\"\n",
    "]\n",
    "\n",
    "corrected_sentences = []\n",
    "trie = build_trie([\n",
    "    \"principal\", \"principle\",\n",
    "    \"excepted\", \"accepted\",\n",
    "    \"lose\", \"loose\",\n",
    "    \"later\", \"latter\",\n",
    "    \"stationary\", \"stationery\",\n",
    "    \"excepted\", \"accepted\",\n",
    "    \"later\", \"latter\",\n",
    "    \"affects\", \"effects\",\n",
    "    \"council\", \"counsel\",\n",
    "    \"too\", \"to\",\n",
    "    \"counsel\", \"council\",\n",
    "    \"bear\", \"bare\",\n",
    "    \"fur\", \"far\",\n",
    "    \"furthest\", \"farthest\",\n",
    "    \"advise\", \"advice\",\n",
    "    \"loose\", \"lose\",\n",
    "    \"to\", \"too\",\n",
    "    \"quiet\", \"quite\",\n",
    "    \"heap\", \"hip\",\n",
    "    \"their\", \"there\"\n",
    "])"
   ]
  },
  {
   "cell_type": "code",
   "execution_count": 96,
   "metadata": {},
   "outputs": [],
   "source": [
    "for sentence in sentences:\n",
    "    corrected_sentences.append(correct_spelling(sentence, trie))"
   ]
  },
  {
   "cell_type": "code",
   "execution_count": 97,
   "metadata": {},
   "outputs": [
    {
     "name": "stdout",
     "output_type": "stream",
     "text": [
      "Mr Patrick is our new principle\n",
      "The company excepted all the terms.\n",
      "Please don’t keep your dog on the lose\n",
      "The later is my best friend.\n",
      "I need some stationary products for my craftwork.\n",
      "The actor excepted the Oscar.\n",
      "I will call you later in the evening.\n",
      "Covid affects the lungs.\n",
      "The council of the ministers were sworn in yesterday.\n",
      "Robert to wants to accompany us to the park.\n",
      "Mia will counsel me about choosing fashion as my career.\n",
      "The bear at the zoo was very playful.\n",
      "The sheep have a lot of fur that keeps them warm.\n",
      "The hot spring is at the fur corner of the street.\n",
      "Can you advise me on how to study for exams?\n",
      "The team will loose the match if they don’t play well.\n",
      "Can you go to the market for me?\n",
      "The teachers asked the students to keep quiet\n",
      "The heap of garbage should be cleaned immediately.\n",
      "This is their house.\n"
     ]
    }
   ],
   "source": [
    "for result in corrected_sentences:\n",
    "    print(result )"
   ]
  },
  {
   "cell_type": "code",
   "execution_count": 98,
   "metadata": {},
   "outputs": [],
   "source": [
    "crct = 0 \n",
    "incrct = 0 "
   ]
  },
  {
   "cell_type": "code",
   "execution_count": 99,
   "metadata": {},
   "outputs": [
    {
     "data": {
      "text/plain": [
       "20"
      ]
     },
     "execution_count": 99,
     "metadata": {},
     "output_type": "execute_result"
    }
   ],
   "source": [
    "len(corrected_sentences)"
   ]
  },
  {
   "cell_type": "code",
   "execution_count": 100,
   "metadata": {},
   "outputs": [],
   "source": [
    "for i in range(len(sentences)):\n",
    "\n",
    "    if (sentences[i] == corrected_sentences[i]):\n",
    "        incrct+=1 \n",
    "    else:\n",
    "        crct+=1"
   ]
  },
  {
   "cell_type": "code",
   "execution_count": 101,
   "metadata": {},
   "outputs": [
    {
     "data": {
      "text/plain": [
       "(5, 15)"
      ]
     },
     "execution_count": 101,
     "metadata": {},
     "output_type": "execute_result"
    }
   ],
   "source": [
    "crct , incrct "
   ]
  },
  {
   "cell_type": "code",
   "execution_count": null,
   "metadata": {},
   "outputs": [],
   "source": []
  }
 ],
 "metadata": {
  "kernelspec": {
   "display_name": "Python 3",
   "language": "python",
   "name": "python3"
  },
  "language_info": {
   "codemirror_mode": {
    "name": "ipython",
    "version": 3
   },
   "file_extension": ".py",
   "mimetype": "text/x-python",
   "name": "python",
   "nbconvert_exporter": "python",
   "pygments_lexer": "ipython3",
   "version": "3.11.5"
  }
 },
 "nbformat": 4,
 "nbformat_minor": 2
}
